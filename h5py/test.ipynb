{
 "cells": [
  {
   "cell_type": "code",
   "execution_count": null,
   "id": "mediterranean-century",
   "metadata": {},
   "outputs": [],
   "source": [
    "try:\n",
    "    import google.colab  # noqa: F401\n",
    "except ImportError:\n",
    "    import h5py\n",
    "else:\n",
    "    !wget \"https://fem-on-colab.github.io/releases/h5py-install.sh\" -O \"/tmp/h5py-install.sh\" && bash \"/tmp/h5py-install.sh\"\n",
    "    import h5py"
   ]
  },
  {
   "cell_type": "code",
   "execution_count": null,
   "id": "sealed-ukraine",
   "metadata": {},
   "outputs": [],
   "source": [
    "assert h5py.__version__ == \"3.6.0\""
   ]
  },
  {
   "cell_type": "code",
   "execution_count": null,
   "id": "antique-renewal",
   "metadata": {},
   "outputs": [],
   "source": [
    "with h5py.File(\"mytestfile.hdf5\", \"w\") as f:\n",
    "    dset = f.create_dataset(\"mydataset\", (100,), dtype=\"i\", compression=\"gzip\")"
   ]
  },
  {
   "cell_type": "code",
   "execution_count": null,
   "id": "younger-lebanon",
   "metadata": {},
   "outputs": [],
   "source": [
    "with h5py.File(\"mytestfile.hdf5\", \"r\") as f:\n",
    "    assert list(f.keys()) == [\"mydataset\"]"
   ]
  }
 ],
 "metadata": {
  "kernelspec": {
   "display_name": "Python 3",
   "language": "python",
   "name": "python3"
  },
  "language_info": {
   "codemirror_mode": {
    "name": "ipython"
   },
   "file_extension": ".py",
   "mimetype": "text/x-python",
   "name": "python",
   "nbconvert_exporter": "python"
  }
 },
 "nbformat": 4,
 "nbformat_minor": 5
}
