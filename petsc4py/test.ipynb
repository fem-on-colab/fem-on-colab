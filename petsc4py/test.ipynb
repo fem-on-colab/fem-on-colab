{
 "cells": [
  {
   "cell_type": "code",
   "execution_count": null,
   "id": "74bec6eb",
   "metadata": {},
   "outputs": [],
   "source": [
    "import os\n",
    "arch = os.getenv(\"ARGS\", \"real\")"
   ]
  },
  {
   "cell_type": "code",
   "execution_count": null,
   "id": "mediterranean-century",
   "metadata": {},
   "outputs": [],
   "source": [
    "try:\n",
    "    import google.colab  # noqa: F401\n",
    "except ImportError:\n",
    "    import petsc4py\n",
    "else:\n",
    "    try:\n",
    "        import petsc4py\n",
    "    except ImportError:\n",
    "        if arch != \"complex\":\n",
    "            !wget \"https://fem-on-colab.github.io/releases/petsc4py-install-real.sh\" -O \"/tmp/petsc4py-install.sh\" && bash \"/tmp/petsc4py-install.sh\"\n",
    "        else:\n",
    "            !wget \"https://fem-on-colab.github.io/releases/petsc4py-install-complex.sh\" -O \"/tmp/petsc4py-install.sh\" && bash \"/tmp/petsc4py-install.sh\"\n",
    "        import petsc4py"
   ]
  },
  {
   "cell_type": "code",
   "execution_count": null,
   "id": "ahead-benefit",
   "metadata": {},
   "outputs": [],
   "source": [
    "assert petsc4py.__version__ == \"3.16.3\""
   ]
  },
  {
   "cell_type": "code",
   "execution_count": null,
   "id": "wooden-modem",
   "metadata": {},
   "outputs": [],
   "source": [
    "petsc4py.init()\n",
    "from petsc4py import PETSc"
   ]
  },
  {
   "cell_type": "code",
   "execution_count": null,
   "id": "15a761d0",
   "metadata": {},
   "outputs": [],
   "source": [
    "import numpy as np\n",
    "if arch != \"complex\":\n",
    "    assert not np.issubdtype(PETSc.ScalarType, np.complexfloating)\n",
    "else:\n",
    "    assert np.issubdtype(PETSc.ScalarType, np.complexfloating)"
   ]
  },
  {
   "cell_type": "code",
   "execution_count": null,
   "id": "aggressive-baltimore",
   "metadata": {},
   "outputs": [],
   "source": [
    "A = PETSc.Mat().createAIJ([3, 3], nnz=1)\n",
    "for i in range(3):\n",
    "    A.setValue(i, i, i + 1)\n",
    "A.assemble()"
   ]
  },
  {
   "cell_type": "code",
   "execution_count": null,
   "id": "fewer-lawrence",
   "metadata": {},
   "outputs": [],
   "source": [
    "assert np.allclose(A.getValues(range(3), range(3)), np.diag([1., 2., 3.]))"
   ]
  },
  {
   "cell_type": "code",
   "execution_count": null,
   "id": "figured-inspector",
   "metadata": {},
   "outputs": [],
   "source": [
    "b = PETSc.Vec().createSeq(3)\n",
    "b.setValues(range(3), [i + 1 for i in range(3)])"
   ]
  },
  {
   "cell_type": "code",
   "execution_count": null,
   "id": "written-spider",
   "metadata": {},
   "outputs": [],
   "source": [
    "assert np.allclose(b.getArray(), [1., 2., 3.])"
   ]
  },
  {
   "cell_type": "code",
   "execution_count": null,
   "id": "hungry-idaho",
   "metadata": {},
   "outputs": [],
   "source": [
    "x = PETSc.Vec().createSeq(3)"
   ]
  },
  {
   "cell_type": "code",
   "execution_count": null,
   "id": "hidden-croatia",
   "metadata": {},
   "outputs": [],
   "source": [
    "ksp = PETSc.KSP().create()\n",
    "ksp.setOperators(A)\n",
    "ksp.solve(b, x)\n",
    "assert np.allclose(x.getArray(), [1., 1., 1.])"
   ]
  },
  {
   "cell_type": "code",
   "execution_count": null,
   "id": "elder-teacher",
   "metadata": {},
   "outputs": [],
   "source": [
    "for package in (\"mumps\", \"superlu\", \"superlu_dist\"):\n",
    "    ksp = PETSc.KSP().create()\n",
    "    ksp.setOperators(A)\n",
    "    ksp.setType(\"preonly\")\n",
    "    pc = ksp.getPC()\n",
    "    pc.setType(\"lu\")\n",
    "    pc.setFactorSolverType(package)\n",
    "    ksp.solve(b, x)\n",
    "    assert np.allclose(x.getArray(), [1., 1., 1.])"
   ]
  }
 ],
 "metadata": {
  "kernelspec": {
   "display_name": "Python 3 (ipykernel)",
   "language": "python",
   "name": "python3"
  },
  "language_info": {
   "codemirror_mode": {
    "name": "ipython"
   },
   "file_extension": ".py",
   "mimetype": "text/x-python",
   "name": "python",
   "nbconvert_exporter": "python"
  }
 },
 "nbformat": 4,
 "nbformat_minor": 5
}
