{
 "cells": [
  {
   "cell_type": "code",
   "execution_count": null,
   "id": "eec913ed",
   "metadata": {},
   "outputs": [],
   "source": [
    "import os\n",
    "arch = os.getenv(\"ARGS\", \"real\")"
   ]
  },
  {
   "cell_type": "code",
   "execution_count": null,
   "id": "mediterranean-century",
   "metadata": {},
   "outputs": [],
   "source": [
    "try:\n",
    "    import google.colab  # noqa: F401\n",
    "except ImportError:\n",
    "    import firedrake\n",
    "else:\n",
    "    try:\n",
    "        import firedrake\n",
    "    except ImportError:\n",
    "        if arch != \"complex\":\n",
    "            !wget \"https://fem-on-colab.github.io/releases/firedrake-install-real.sh\" -O \"/tmp/firedrake-install.sh\" && bash \"/tmp/firedrake-install.sh\"\n",
    "        else:\n",
    "            !wget \"https://fem-on-colab.github.io/releases/firedrake-install-complex.sh\" -O \"/tmp/firedrake-install.sh\" && bash \"/tmp/firedrake-install.sh\"\n",
    "        import firedrake"
   ]
  },
  {
   "cell_type": "code",
   "execution_count": null,
   "id": "statewide-offer",
   "metadata": {},
   "outputs": [],
   "source": [
    "import numpy as np\n",
    "from petsc4py import PETSc\n",
    "if arch != \"complex\":\n",
    "    assert not np.issubdtype(PETSc.ScalarType, np.complexfloating)\n",
    "else:\n",
    "    assert np.issubdtype(PETSc.ScalarType, np.complexfloating)"
   ]
  },
  {
   "cell_type": "code",
   "execution_count": null,
   "id": "received-partnership",
   "metadata": {},
   "outputs": [],
   "source": [
    "mesh = firedrake.UnitIntervalMesh(3)"
   ]
  },
  {
   "cell_type": "code",
   "execution_count": null,
   "id": "reliable-tanzania",
   "metadata": {},
   "outputs": [],
   "source": [
    "V = firedrake.FunctionSpace(mesh, \"CG\", 1)\n",
    "assert V.dim() == 4"
   ]
  },
  {
   "cell_type": "code",
   "execution_count": null,
   "id": "ranking-target",
   "metadata": {},
   "outputs": [],
   "source": [
    "u = firedrake.TrialFunction(V)\n",
    "v = firedrake.TestFunction(V)"
   ]
  },
  {
   "cell_type": "code",
   "execution_count": null,
   "id": "sitting-transcription",
   "metadata": {},
   "outputs": [],
   "source": [
    "dx = firedrake.dx"
   ]
  },
  {
   "cell_type": "code",
   "execution_count": null,
   "id": "upper-cancellation",
   "metadata": {},
   "outputs": [],
   "source": [
    "f = firedrake.Function(V)\n",
    "f.vector()[:] = np.arange(1, V.dim() + 1)"
   ]
  },
  {
   "cell_type": "code",
   "execution_count": null,
   "id": "annoying-anthropology",
   "metadata": {},
   "outputs": [],
   "source": [
    "a = u * v * dx\n",
    "F = f * v * dx"
   ]
  },
  {
   "cell_type": "code",
   "execution_count": null,
   "id": "lonely-edgar",
   "metadata": {},
   "outputs": [],
   "source": [
    "A = firedrake.assemble(a)\n",
    "b = firedrake.assemble(F)"
   ]
  },
  {
   "cell_type": "code",
   "execution_count": null,
   "id": "intermediate-biology",
   "metadata": {},
   "outputs": [],
   "source": [
    "solution = firedrake.Function(V)"
   ]
  },
  {
   "cell_type": "code",
   "execution_count": null,
   "id": "sacred-bottom",
   "metadata": {},
   "outputs": [],
   "source": [
    "firedrake.solve(A, solution.vector(), b)"
   ]
  },
  {
   "cell_type": "code",
   "execution_count": null,
   "id": "difficult-stopping",
   "metadata": {},
   "outputs": [],
   "source": [
    "with solution.dat.vec as solution_vec:\n",
    "    assert np.allclose(solution_vec.getArray(), np.arange(1, V.dim() + 1))"
   ]
  },
  {
   "cell_type": "code",
   "execution_count": null,
   "id": "hidden-croatia",
   "metadata": {},
   "outputs": [],
   "source": [
    "ksp = PETSc.KSP().create()\n",
    "ksp.setOperators(A.petscmat)\n",
    "with b.dat.vec_ro as b_vec, solution.dat.vec as solution_vec:\n",
    "    ksp.solve(b_vec, solution_vec)\n",
    "with solution.dat.vec_ro as solution_vec:\n",
    "    assert np.allclose(solution_vec.getArray(), np.arange(1, V.dim() + 1))"
   ]
  },
  {
   "cell_type": "code",
   "execution_count": null,
   "id": "elder-teacher",
   "metadata": {},
   "outputs": [],
   "source": [
    "for package in (\"mumps\", \"superlu\", \"superlu_dist\"):\n",
    "    ksp = PETSc.KSP().create()\n",
    "    ksp.setOperators(A.petscmat)\n",
    "    ksp.setType(\"preonly\")\n",
    "    pc = ksp.getPC()\n",
    "    pc.setType(\"lu\")\n",
    "    pc.setFactorSolverType(package)\n",
    "    with b.dat.vec_ro as b_vec, solution.dat.vec as solution_vec:\n",
    "        ksp.solve(b_vec, solution_vec)\n",
    "    with solution.dat.vec_ro as solution_vec:\n",
    "        assert np.allclose(solution_vec.getArray(), np.arange(1, V.dim() + 1))"
   ]
  },
  {
   "cell_type": "code",
   "execution_count": null,
   "id": "missing-fossil",
   "metadata": {},
   "outputs": [],
   "source": [
    "grad = firedrake.grad\n",
    "inner = firedrake.inner"
   ]
  },
  {
   "cell_type": "code",
   "execution_count": null,
   "id": "occasional-carpet",
   "metadata": {},
   "outputs": [],
   "source": [
    "k = inner(grad(u), grad(v)) * dx"
   ]
  },
  {
   "cell_type": "code",
   "execution_count": null,
   "id": "seven-obligation",
   "metadata": {},
   "outputs": [],
   "source": [
    "K = firedrake.assemble(k)"
   ]
  },
  {
   "cell_type": "code",
   "execution_count": null,
   "id": "every-ribbon",
   "metadata": {},
   "outputs": [],
   "source": [
    "expected = (0, 10.8, 54, 108)"
   ]
  },
  {
   "cell_type": "code",
   "execution_count": null,
   "id": "romantic-washington",
   "metadata": {},
   "outputs": [],
   "source": [
    "from slepc4py import SLEPc"
   ]
  },
  {
   "cell_type": "code",
   "execution_count": null,
   "id": "accepting-snowboard",
   "metadata": {},
   "outputs": [],
   "source": [
    "eps = SLEPc.EPS().create()\n",
    "eps.setOperators(K.petscmat, A.petscmat)\n",
    "eps.setProblemType(SLEPc.EPS.ProblemType.GHEP)\n",
    "eps.setWhichEigenpairs(SLEPc.EPS.Which.SMALLEST_REAL)\n",
    "eps.solve()\n",
    "assert eps.getConverged() == len(expected)\n",
    "for (i, eig_i_ex) in enumerate(expected):\n",
    "    eig_i = eps.getEigenvalue(i)\n",
    "    assert np.isclose(eig_i.real, eig_i_ex)\n",
    "    assert np.isclose(eig_i.imag, 0)"
   ]
  },
  {
   "cell_type": "code",
   "execution_count": null,
   "id": "outside-rwanda",
   "metadata": {},
   "outputs": [],
   "source": [
    "for package in (\"mumps\", \"superlu\", \"superlu_dist\"):\n",
    "    eps = SLEPc.EPS().create()\n",
    "    eps.setOperators(K.petscmat, A.petscmat)\n",
    "    eps.setProblemType(SLEPc.EPS.ProblemType.GHEP)\n",
    "    eps.setWhichEigenpairs(SLEPc.EPS.Which.TARGET_REAL)\n",
    "    eps.setTarget(1)\n",
    "    st = eps.getST()\n",
    "    st.setType(SLEPc.ST.Type.SINVERT)\n",
    "    st.setShift(1)\n",
    "    ksp = st.getKSP()\n",
    "    ksp.setType(\"preonly\")\n",
    "    pc = ksp.getPC()\n",
    "    pc.setType(\"lu\")\n",
    "    pc.setFactorSolverType(package)\n",
    "    eps.solve()\n",
    "    assert eps.getConverged() == len(expected)\n",
    "    for (i, eig_i_ex) in enumerate(expected):\n",
    "        eig_i = eps.getEigenvalue(i)\n",
    "        assert np.isclose(eig_i.real, eig_i_ex)\n",
    "        assert np.isclose(eig_i.imag, 0)"
   ]
  }
 ],
 "metadata": {
  "kernelspec": {
   "display_name": "Python 3 (ipykernel)",
   "language": "python",
   "name": "python3"
  },
  "language_info": {
   "codemirror_mode": {
    "name": "ipython"
   },
   "file_extension": ".py",
   "mimetype": "text/x-python",
   "name": "python",
   "nbconvert_exporter": "python"
  }
 },
 "nbformat": 4,
 "nbformat_minor": 5
}
