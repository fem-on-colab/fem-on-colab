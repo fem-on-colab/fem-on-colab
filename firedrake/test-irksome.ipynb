{
 "cells": [
  {
   "cell_type": "code",
   "execution_count": null,
   "id": "ebd729f8",
   "metadata": {},
   "outputs": [],
   "source": [
    "import os\n",
    "args = os.getenv(\"ARGS\", \"release real\").split(\" \")\n",
    "release = args[0]\n",
    "arch = args[1]"
   ]
  },
  {
   "cell_type": "code",
   "execution_count": null,
   "id": "fb6f202f",
   "metadata": {},
   "outputs": [],
   "source": [
    "try:\n",
    "    import BACKEND_LIBRARY_IN  # noqa: F401\n",
    "except ImportError:\n",
    "    import firedrake\n",
    "else:\n",
    "    try:\n",
    "        import firedrake\n",
    "    except ImportError:\n",
    "        if release != \"development\":\n",
    "            if arch != \"complex\":\n",
    "                !wget \"https://PROJECT_NAME_IN.github.io/releases/firedrake-install-release-real.sh\" -O \"/tmp/firedrake-install.sh\" && bash \"/tmp/firedrake-install.sh\"\n",
    "            else:\n",
    "                !wget \"https://PROJECT_NAME_IN.github.io/releases/firedrake-install-release-complex.sh\" -O \"/tmp/firedrake-install.sh\" && bash \"/tmp/firedrake-install.sh\"\n",
    "        else:\n",
    "            if arch != \"complex\":\n",
    "                !wget \"https://PROJECT_NAME_IN.github.io/releases/firedrake-install-development-real.sh\" -O \"/tmp/firedrake-install.sh\" && bash \"/tmp/firedrake-install.sh\"\n",
    "            else:\n",
    "                !wget \"https://PROJECT_NAME_IN.github.io/releases/firedrake-install-development-complex.sh\" -O \"/tmp/firedrake-install.sh\" && bash \"/tmp/firedrake-install.sh\"\n",
    "        import firedrake  # noqa: F401"
   ]
  },
  {
   "cell_type": "code",
   "execution_count": null,
   "id": "447f812b",
   "metadata": {},
   "outputs": [],
   "source": [
    "try:\n",
    "    import irksome\n",
    "except ImportError:\n",
    "    !python3 -m pip install --no-dependencies git+https://github.com/firedrakeproject/Irksome.git\n",
    "    import irksome  # noqa: F401"
   ]
  },
  {
   "cell_type": "code",
   "execution_count": null,
   "id": "cbdee008",
   "metadata": {},
   "outputs": [],
   "source": [
    "from ufl.algorithms.ad import expand_derivatives\n",
    "from firedrake import *\n",
    "from irksome import *"
   ]
  },
  {
   "cell_type": "code",
   "execution_count": null,
   "id": "50ac02bf",
   "metadata": {},
   "outputs": [],
   "source": [
    "N = 20\n",
    "x0 = 0.0\n",
    "x1 = 10.0\n",
    "y0 = 0.0\n",
    "y1 = 10.0"
   ]
  },
  {
   "cell_type": "code",
   "execution_count": null,
   "id": "870d22b0",
   "metadata": {},
   "outputs": [],
   "source": [
    "msh = RectangleMesh(N, N, x1, y1)\n",
    "V = FunctionSpace(msh, \"CG\", 1)"
   ]
  },
  {
   "cell_type": "code",
   "execution_count": null,
   "id": "f953b93d",
   "metadata": {},
   "outputs": [],
   "source": [
    "MC = MeshConstant(msh)\n",
    "dt = MC.Constant(1.0 / N)\n",
    "t = MC.Constant(0.0)"
   ]
  },
  {
   "cell_type": "code",
   "execution_count": null,
   "id": "c8c62d6a",
   "metadata": {},
   "outputs": [],
   "source": [
    "x, y = SpatialCoordinate(msh)\n",
    "S = Constant(2.0)\n",
    "C = Constant(1000.0)\n",
    "B = (x - Constant(x0)) * (x - Constant(x1)) * (y - Constant(y0)) * (y - Constant(y1)) / C\n",
    "R = (x * x + y * y) ** 0.5\n",
    "uexact = B * atan(t) * (pi / 2.0 - atan(S * (R - t)))\n",
    "rhs = expand_derivatives(diff(uexact, t)) - div(grad(uexact))"
   ]
  },
  {
   "cell_type": "code",
   "execution_count": null,
   "id": "8b8867f2",
   "metadata": {},
   "outputs": [],
   "source": [
    "u = interpolate(uexact, V)\n",
    "v = TestFunction(V)\n",
    "F = inner(Dt(u), v) * dx + inner(grad(u), grad(v)) * dx - inner(rhs, v) * dx\n",
    "bc = DirichletBC(V, 0, \"on_boundary\")"
   ]
  },
  {
   "cell_type": "code",
   "execution_count": null,
   "id": "cd1d3bfa-9259-4761-956f-ffc774a68392",
   "metadata": {},
   "outputs": [],
   "source": [
    "butcher_tableau = GaussLegendre(1)\n",
    "luparams = {\"mat_type\": \"aij\", \"ksp_type\": \"preonly\", \"pc_type\": \"lu\"}\n",
    "stepper = TimeStepper(F, butcher_tableau, t, dt, u, bcs=bc, solver_parameters=luparams)"
   ]
  },
  {
   "cell_type": "code",
   "execution_count": null,
   "id": "d15e5b82-895d-4711-8580-80fe49278551",
   "metadata": {},
   "outputs": [],
   "source": [
    "while float(t) < 1.0:\n",
    "    if float(t) + float(dt) > 1.0:\n",
    "        dt.assign(1.0 - float(t))\n",
    "    print(\"solving for time\", float(t) + float(dt))\n",
    "    stepper.advance()\n",
    "    t.assign(float(t) + float(dt))\n",
    "print(norm(u - uexact) / norm(uexact))"
   ]
  }
 ],
 "metadata": {
  "kernelspec": {
   "display_name": "Python 3 (ipykernel)",
   "language": "python",
   "name": "python3"
  },
  "language_info": {
   "codemirror_mode": {
    "name": "ipython"
   },
   "file_extension": ".py",
   "mimetype": "text/x-python",
   "name": "python",
   "nbconvert_exporter": "python"
  }
 },
 "nbformat": 4,
 "nbformat_minor": 5
}
