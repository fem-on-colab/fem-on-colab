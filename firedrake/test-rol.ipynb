{
 "cells": [
  {
   "cell_type": "code",
   "execution_count": null,
   "id": "mediterranean-century",
   "metadata": {},
   "outputs": [],
   "source": [
    "import os\n",
    "arch = os.getenv(\"ARGS\", \"real\")"
   ]
  },
  {
   "cell_type": "code",
   "execution_count": null,
   "id": "685b1e0d",
   "metadata": {},
   "outputs": [],
   "source": [
    "# PYTEST_XFAIL_AND_SKIP_NEXT: ROL and fireshape are only expected to work with real numbers\n",
    "assert arch == \"real\""
   ]
  },
  {
   "cell_type": "code",
   "execution_count": null,
   "id": "08bffffe",
   "metadata": {},
   "outputs": [],
   "source": [
    "try:\n",
    "    import google.colab  # noqa: F401\n",
    "except ImportError:\n",
    "    import firedrake\n",
    "else:\n",
    "    try:\n",
    "        import firedrake\n",
    "    except ImportError:\n",
    "        !wget \"https://fem-on-colab.github.io/releases/firedrake-install-real.sh\" -O \"/tmp/firedrake-install.sh\" && bash \"/tmp/firedrake-install.sh\"\n",
    "        import firedrake  # noqa: F401"
   ]
  },
  {
   "cell_type": "code",
   "execution_count": null,
   "id": "88c1abf2",
   "metadata": {},
   "outputs": [],
   "source": [
    "%load_ext wurlitzer"
   ]
  },
  {
   "cell_type": "code",
   "execution_count": null,
   "id": "antique-renewal",
   "metadata": {},
   "outputs": [],
   "source": [
    "# Adapted from https://bitbucket.org/pyrol/pyrol/src/master/tests/test_numpy_vector.py"
   ]
  },
  {
   "cell_type": "code",
   "execution_count": null,
   "id": "1b1c9f53",
   "metadata": {},
   "outputs": [],
   "source": [
    "import ROL\n",
    "import ROL.numpy_vector"
   ]
  },
  {
   "cell_type": "code",
   "execution_count": null,
   "id": "6e40905d",
   "metadata": {},
   "outputs": [],
   "source": [
    "x = ROL.numpy_vector.NumpyVector(2)\n",
    "x.data[0] = 0.5\n",
    "x.data[1] = 0.5\n",
    "y = ROL.numpy_vector.NumpyVector(2)\n",
    "y.data[0] = 0.2\n",
    "y.data[1] = 0.3\n",
    "z = ROL.numpy_vector.NumpyVector(2)\n",
    "z.data[0] = 0.1\n",
    "z.data[1] = 0.7\n",
    "\"\"\"\n",
    "u = x.checkVector(y, z)\n",
    "assert sum(u) < 1e-12\n",
    "\"\"\""
   ]
  },
  {
   "cell_type": "code",
   "execution_count": null,
   "id": "younger-lebanon",
   "metadata": {},
   "outputs": [],
   "source": [
    "class MyObj(ROL.Objective):\n",
    "    def __init__(self):\n",
    "        ROL.Objective.__init__(self)\n",
    "\n",
    "    def value(self, x, tol):\n",
    "        return (x[0] - 1)**2 + x[1]**2\n",
    "\n",
    "    def gradient(self, g, x, tol):\n",
    "        g[0] = 2 * (x[0] - 1)\n",
    "        g[1] = 2 * x[1]"
   ]
  },
  {
   "cell_type": "code",
   "execution_count": null,
   "id": "43140294",
   "metadata": {},
   "outputs": [],
   "source": [
    "paramsDict = {\n",
    "    \"Step\": {\n",
    "        \"Line Search\": {\n",
    "            \"Descent Method\": {\n",
    "                \"Type\": \"Quasi-Newton Method\"\n",
    "            }\n",
    "        },\n",
    "        \"Type\": \"Interior Point\",\n",
    "        \"Interior Point\": {\n",
    "            \"Initial Barrier Penalty\": 0.01,\n",
    "            \"Barrier Penalty Reduction Factor\": 0.15,\n",
    "            \"Minimum Barrier Penalty\": 1e-8\n",
    "        },\n",
    "        \"Composite Step\": {\n",
    "            \"Output Level\": 0\n",
    "        }\n",
    "    },\n",
    "    \"Status Test\": {\n",
    "        \"Gradient Tolerance\": 1e-12,\n",
    "        \"Step Tolerance\": 1e-16,\n",
    "        \"Constraint Tolerance\": 1e-12,\n",
    "        \"Iteration Limit\": 10\n",
    "    }\n",
    "}"
   ]
  },
  {
   "cell_type": "code",
   "execution_count": null,
   "id": "46cb91c9",
   "metadata": {},
   "outputs": [],
   "source": [
    "obj = MyObj()\n",
    "params = ROL.ParameterList(paramsDict, \"Parameters\")\n",
    "x = ROL.numpy_vector.NumpyVector(2)\n",
    "optimProblem = ROL.OptimizationProblem(obj, x)\n",
    "solver = ROL.OptimizationSolver(optimProblem, params)\n",
    "solver.solve()\n",
    "assert round(x[0] - 1.0, 6) == 0.0\n",
    "assert round(x[1], 6) == 0.0"
   ]
  }
 ],
 "metadata": {
  "kernelspec": {
   "display_name": "Python 3 (ipykernel)",
   "language": "python",
   "name": "python3"
  },
  "language_info": {
   "codemirror_mode": {
    "name": "ipython"
   },
   "file_extension": ".py",
   "mimetype": "text/x-python",
   "name": "python",
   "nbconvert_exporter": "python"
  }
 },
 "nbformat": 4,
 "nbformat_minor": 5
}
