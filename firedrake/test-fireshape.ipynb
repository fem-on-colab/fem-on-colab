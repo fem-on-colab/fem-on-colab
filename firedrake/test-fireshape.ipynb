{
 "cells": [
  {
   "cell_type": "code",
   "execution_count": null,
   "id": "ebd729f8",
   "metadata": {},
   "outputs": [],
   "source": [
    "import os\n",
    "arch = os.getenv(\"ARGS\", \"real\")"
   ]
  },
  {
   "cell_type": "code",
   "execution_count": null,
   "id": "1356b4f9",
   "metadata": {},
   "outputs": [],
   "source": [
    "# PYTEST_XFAIL_AND_SKIP_NEXT: ROL and fireshape are only expected to work with real numbers\n",
    "assert arch == \"real\""
   ]
  },
  {
   "cell_type": "code",
   "execution_count": null,
   "id": "fb6f202f",
   "metadata": {},
   "outputs": [],
   "source": [
    "try:\n",
    "    import google.colab  # noqa: F401\n",
    "except ImportError:\n",
    "    import firedrake\n",
    "else:\n",
    "    try:\n",
    "        import firedrake\n",
    "    except ImportError:\n",
    "        !wget \"https://fem-on-colab.github.io/releases/firedrake-install-real.sh\" -O \"/tmp/firedrake-install.sh\" && bash \"/tmp/firedrake-install.sh\"\n",
    "        import firedrake  # noqa: F401"
   ]
  },
  {
   "cell_type": "code",
   "execution_count": null,
   "id": "447f812b",
   "metadata": {},
   "outputs": [],
   "source": [
    "try:\n",
    "    import fireshape\n",
    "except ImportError:\n",
    "    !python3 -m pip install --no-dependencies git+https://github.com/fireshape/fireshape.git\n",
    "    import fireshape  # noqa: F401"
   ]
  },
  {
   "cell_type": "code",
   "execution_count": null,
   "id": "e0f2865b",
   "metadata": {},
   "outputs": [],
   "source": [
    "%load_ext wurlitzer"
   ]
  },
  {
   "cell_type": "code",
   "execution_count": null,
   "id": "cbdee008",
   "metadata": {},
   "outputs": [],
   "source": [
    "import firedrake as fd\n",
    "import fireshape as fs\n",
    "import ROL"
   ]
  },
  {
   "cell_type": "code",
   "execution_count": null,
   "id": "50ac02bf",
   "metadata": {},
   "outputs": [],
   "source": [
    "class LevelsetFunctional(fs.ShapeObjective):\n",
    "    def __init__(self, *args, **kwargs):\n",
    "        super().__init__(*args, **kwargs)\n",
    "\n",
    "        # physical mesh\n",
    "        self.mesh_m = self.Q.mesh_m\n",
    "\n",
    "        # global function defined in terms of physical coordinates\n",
    "        x, y = fd.SpatialCoordinate(self.mesh_m)\n",
    "        self.f = (x - 0.5)**2 + (y - 0.5)**2 - 0.5\n",
    "\n",
    "    def value_form(self):\n",
    "        # volume integral\n",
    "        return self.f * fd.dx"
   ]
  },
  {
   "cell_type": "code",
   "execution_count": null,
   "id": "870d22b0",
   "metadata": {},
   "outputs": [],
   "source": [
    "# setup problem\n",
    "mesh = fd.UnitSquareMesh(30, 30)\n",
    "Q = fs.FeControlSpace(mesh)\n",
    "inner = fs.LaplaceInnerProduct(Q)\n",
    "q = fs.ControlVector(Q, inner)"
   ]
  },
  {
   "cell_type": "code",
   "execution_count": null,
   "id": "f953b93d",
   "metadata": {},
   "outputs": [],
   "source": [
    "# create objective functional\n",
    "J = LevelsetFunctional(Q)"
   ]
  },
  {
   "cell_type": "code",
   "execution_count": null,
   "id": "c8c62d6a",
   "metadata": {},
   "outputs": [],
   "source": [
    "# ROL parameters\n",
    "params_dict = {\n",
    "    \"Step\": {\n",
    "        \"Type\": \"Line Search\",\n",
    "        \"Line Search\": {\n",
    "            \"Descent Method\": {\n",
    "                \"Type\": \"Quasi-Newton Step\"\n",
    "            }\n",
    "        }\n",
    "    },\n",
    "    \"General\": {\n",
    "        \"Secant\": {\n",
    "            \"Type\": \"Limited-Memory BFGS\",\n",
    "            \"Maximum Storage\": 25\n",
    "        }\n",
    "    },\n",
    "    \"Status Test\": {\n",
    "        \"Gradient Tolerance\": 1e-4,\n",
    "        \"Step Tolerance\": 1e-10,\n",
    "        \"Iteration Limit\": 30\n",
    "    }\n",
    "}"
   ]
  },
  {
   "cell_type": "code",
   "execution_count": null,
   "id": "8b8867f2",
   "metadata": {},
   "outputs": [],
   "source": [
    "params = ROL.ParameterList(params_dict, \"Parameters\")\n",
    "problem = ROL.OptimizationProblem(J, q)\n",
    "solver = ROL.OptimizationSolver(problem, params)\n",
    "solver.solve()"
   ]
  }
 ],
 "metadata": {
  "kernelspec": {
   "display_name": "Python 3 (ipykernel)",
   "language": "python",
   "name": "python3"
  },
  "language_info": {
   "codemirror_mode": {
    "name": "ipython"
   },
   "file_extension": ".py",
   "mimetype": "text/x-python",
   "name": "python",
   "nbconvert_exporter": "python"
  }
 },
 "nbformat": 4,
 "nbformat_minor": 5
}
