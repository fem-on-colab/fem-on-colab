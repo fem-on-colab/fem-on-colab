{
 "cells": [
  {
   "cell_type": "code",
   "execution_count": null,
   "metadata": {},
   "outputs": [],
   "source": [
    "import os\n",
    "arch = os.getenv(\"ARGS\", \"real\")"
   ]
  },
  {
   "cell_type": "code",
   "execution_count": null,
   "metadata": {},
   "outputs": [],
   "source": [
    "try:\n",
    "    import google.colab  # noqa: F401\n",
    "except ImportError:\n",
    "    import ufl\n",
    "    import dolfinx\n",
    "else:\n",
    "    try:\n",
    "        import ufl\n",
    "        import dolfinx\n",
    "    except ImportError:\n",
    "        if arch != \"complex\":\n",
    "            !wget \"https://fem-on-colab.github.io/releases/fenicsx-install-real.sh\" -O \"/tmp/fenicsx-install.sh\" && bash \"/tmp/fenicsx-install.sh\"\n",
    "        else:\n",
    "            !wget \"https://fem-on-colab.github.io/releases/fenicsx-install-complex.sh\" -O \"/tmp/fenicsx-install.sh\" && bash \"/tmp/fenicsx-install.sh\"\n",
    "        import ufl\n",
    "        import dolfinx"
   ]
  },
  {
   "cell_type": "code",
   "execution_count": null,
   "metadata": {},
   "outputs": [],
   "source": [
    "try:\n",
    "    import multiphenicsx\n",
    "except ImportError:\n",
    "    !pip3 install --no-dependencies git+https://github.com/multiphenics/multiphenicsx.git@npt\n",
    "    !pip3 install --upgrade itkwidgets pyvista\n",
    "    import multiphenicsx  # noqa: F401"
   ]
  },
  {
   "cell_type": "code",
   "execution_count": null,
   "metadata": {},
   "outputs": [],
   "source": [
    "# Download data files\n",
    "!mkdir -p data\n",
    "![ -f data/circle.h5 ] || wget https://github.com/multiphenics/multiphenicsx/raw/main/tutorials/03_lagrange_multipliers/data/circle.h5 -O data/circle.h5\n",
    "![ -f data/circle.xdmf ] || wget https://github.com/multiphenics/multiphenicsx/raw/main/tutorials/03_lagrange_multipliers/data/circle.xdmf -O data/circle.xdmf"
   ]
  },
  {
   "cell_type": "code",
   "execution_count": null,
   "metadata": {},
   "outputs": [],
   "source": [
    "import numpy as np\n",
    "import mpi4py\n",
    "import mpi4py.MPI\n",
    "import petsc4py\n",
    "import petsc4py.PETSc\n",
    "import dolfinx.fem\n",
    "import dolfinx.io\n",
    "import dolfinx.mesh\n",
    "import multiphenicsx.fem\n",
    "import multiphenicsx.io\n",
    "import ufl"
   ]
  },
  {
   "cell_type": "code",
   "execution_count": null,
   "metadata": {},
   "outputs": [],
   "source": [
    "with dolfinx.io.XDMFFile(mpi4py.MPI.COMM_WORLD, \"data/circle.xdmf\", \"r\") as infile:\n",
    "    mesh = infile.read_mesh(dolfinx.mesh.GhostMode.none)\n",
    "    subdomains = infile.read_meshtags(mesh, name=\"subdomains\")\n",
    "    mesh.topology.create_connectivity(mesh.topology.dim - 1, mesh.topology.dim)\n",
    "    boundaries = infile.read_meshtags(mesh, name=\"boundaries\")\n",
    "cells_Omega1 = subdomains.indices[subdomains.values == 1]\n",
    "cells_Omega2 = subdomains.indices[subdomains.values == 2]\n",
    "facets_partial_Omega = boundaries.indices[boundaries.values == 1]\n",
    "facets_Gamma = boundaries.indices[boundaries.values == 2]"
   ]
  },
  {
   "cell_type": "code",
   "execution_count": null,
   "metadata": {},
   "outputs": [],
   "source": [
    "multiphenicsx.io.plot_mesh(mesh)"
   ]
  },
  {
   "cell_type": "code",
   "execution_count": null,
   "metadata": {},
   "outputs": [],
   "source": [
    "multiphenicsx.io.plot_mesh_tags(subdomains)"
   ]
  },
  {
   "cell_type": "code",
   "execution_count": null,
   "metadata": {},
   "outputs": [],
   "source": [
    "multiphenicsx.io.plot_mesh_tags(boundaries)"
   ]
  },
  {
   "cell_type": "code",
   "execution_count": null,
   "metadata": {},
   "outputs": [],
   "source": [
    "# Define associated measures\n",
    "dx = ufl.Measure(\"dx\")(subdomain_data=subdomains)\n",
    "ds = ufl.Measure(\"ds\")(subdomain_data=boundaries)\n",
    "dS = ufl.Measure(\"dS\")(subdomain_data=boundaries)\n",
    "dS = dS(2)  # restrict to the interface, which has facet ID equal to 2"
   ]
  },
  {
   "cell_type": "code",
   "execution_count": null,
   "metadata": {},
   "outputs": [],
   "source": [
    "# Define function spaces\n",
    "V = dolfinx.fem.FunctionSpace(mesh, (\"Lagrange\", 2))\n",
    "V1 = V.clone()\n",
    "V2 = V.clone()\n",
    "M = V.clone()"
   ]
  },
  {
   "cell_type": "code",
   "execution_count": null,
   "metadata": {},
   "outputs": [],
   "source": [
    "# Define restrictions\n",
    "dofs_V1_Omega1 = dolfinx.fem.locate_dofs_topological(V1, subdomains.dim, cells_Omega1)\n",
    "dofs_V2_Omega2 = dolfinx.fem.locate_dofs_topological(V2, subdomains.dim, cells_Omega2)\n",
    "dofs_M_Gamma = dolfinx.fem.locate_dofs_topological(M, boundaries.dim, facets_Gamma)\n",
    "restriction_V1_Omega1 = multiphenicsx.fem.DofMapRestriction(V1.dofmap, dofs_V1_Omega1)\n",
    "restriction_V2_Omega2 = multiphenicsx.fem.DofMapRestriction(V2.dofmap, dofs_V2_Omega2)\n",
    "restriction_M_Gamma = multiphenicsx.fem.DofMapRestriction(M.dofmap, dofs_M_Gamma)\n",
    "restriction = [restriction_V1_Omega1, restriction_V2_Omega2, restriction_M_Gamma]"
   ]
  },
  {
   "cell_type": "code",
   "execution_count": null,
   "metadata": {},
   "outputs": [],
   "source": [
    "# Define trial and test functions\n",
    "(u1, u2, l) = (ufl.TrialFunction(V1), ufl.TrialFunction(V2), ufl.TrialFunction(M))\n",
    "(v1, v2, m) = (ufl.TestFunction(V1), ufl.TestFunction(V2), ufl.TestFunction(M))"
   ]
  },
  {
   "cell_type": "code",
   "execution_count": null,
   "metadata": {},
   "outputs": [],
   "source": [
    "# Define problem block forms\n",
    "zero = dolfinx.fem.Constant(mesh, petsc4py.PETSc.ScalarType(0))\n",
    "a = [[ufl.inner(ufl.grad(u1), ufl.grad(v1)) * dx(1), None, ufl.inner(l(\"-\"), v1(\"-\")) * dS],\n",
    "     [None, ufl.inner(ufl.grad(u2), ufl.grad(v2)) * dx(2), - ufl.inner(l(\"+\"), v2(\"+\")) * dS],\n",
    "     [ufl.inner(u1(\"-\"), m(\"-\")) * dS, - ufl.inner(u2(\"+\"), m(\"+\")) * dS, None]]\n",
    "f = [ufl.inner(1, v1) * dx(1), ufl.inner(1, v2) * dx(2), ufl.inner(zero, m(\"-\")) * dS]\n",
    "a_cpp = dolfinx.fem.form(a)\n",
    "f_cpp = dolfinx.fem.form(f)"
   ]
  },
  {
   "cell_type": "code",
   "execution_count": null,
   "metadata": {},
   "outputs": [],
   "source": [
    "# Define boundary conditions\n",
    "dofs_V1_partial_Omega = dolfinx.fem.locate_dofs_topological(V1, boundaries.dim, facets_partial_Omega)\n",
    "dofs_V2_partial_Omega = dolfinx.fem.locate_dofs_topological(V2, boundaries.dim, facets_partial_Omega)\n",
    "bc1 = dolfinx.fem.dirichletbc(zero, dofs_V1_partial_Omega, V1)\n",
    "bc2 = dolfinx.fem.dirichletbc(zero, dofs_V2_partial_Omega, V2)\n",
    "bcs = [bc1, bc2]"
   ]
  },
  {
   "cell_type": "code",
   "execution_count": null,
   "metadata": {},
   "outputs": [],
   "source": [
    "# Assemble the block linear system\n",
    "A = multiphenicsx.fem.assemble_matrix_block(a_cpp, bcs=bcs, restriction=(restriction, restriction))\n",
    "A.assemble()\n",
    "F = multiphenicsx.fem.assemble_vector_block(f_cpp, a_cpp, bcs=bcs, restriction=restriction)"
   ]
  },
  {
   "cell_type": "code",
   "execution_count": null,
   "metadata": {},
   "outputs": [],
   "source": [
    "# Solve\n",
    "u1u2l = multiphenicsx.fem.create_vector_block(f_cpp, restriction=restriction)\n",
    "ksp = petsc4py.PETSc.KSP()\n",
    "ksp.create(mesh.comm)\n",
    "ksp.setOperators(A)\n",
    "ksp.setType(\"preonly\")\n",
    "ksp.getPC().setType(\"lu\")\n",
    "ksp.getPC().setFactorSolverType(\"mumps\")\n",
    "ksp.setFromOptions()\n",
    "ksp.solve(F, u1u2l)\n",
    "u1u2l.ghostUpdate(addv=petsc4py.PETSc.InsertMode.INSERT, mode=petsc4py.PETSc.ScatterMode.FORWARD)"
   ]
  },
  {
   "cell_type": "code",
   "execution_count": null,
   "metadata": {},
   "outputs": [],
   "source": [
    "# Split the block solution in components\n",
    "(u1, u2, l) = (dolfinx.fem.Function(V1), dolfinx.fem.Function(V2), dolfinx.fem.Function(M))\n",
    "with multiphenicsx.fem.BlockVecSubVectorWrapper(\n",
    "        u1u2l, [V1.dofmap, V2.dofmap, M.dofmap], restriction) as u1u2l_wrapper:\n",
    "    for u1u2l_wrapper_local, component in zip(u1u2l_wrapper, (u1, u2, l)):\n",
    "        with component.vector.localForm() as component_local:\n",
    "            component_local[:] = u1u2l_wrapper_local"
   ]
  },
  {
   "cell_type": "code",
   "execution_count": null,
   "metadata": {},
   "outputs": [],
   "source": [
    "multiphenicsx.io.plot_scalar_field(u1, \"u1\")"
   ]
  },
  {
   "cell_type": "code",
   "execution_count": null,
   "metadata": {},
   "outputs": [],
   "source": [
    "multiphenicsx.io.plot_scalar_field(u2, \"u2\")"
   ]
  },
  {
   "cell_type": "code",
   "execution_count": null,
   "metadata": {},
   "outputs": [],
   "source": [
    "# Define trial and test functions\n",
    "u = ufl.TrialFunction(V)\n",
    "v = ufl.TestFunction(V)"
   ]
  },
  {
   "cell_type": "code",
   "execution_count": null,
   "metadata": {},
   "outputs": [],
   "source": [
    "# Define problem forms\n",
    "a_ex = ufl.inner(ufl.grad(u), ufl.grad(v)) * dx\n",
    "f_ex = ufl.inner(1, v) * dx"
   ]
  },
  {
   "cell_type": "code",
   "execution_count": null,
   "metadata": {},
   "outputs": [],
   "source": [
    "# Define Dirichlet BC object on Gamma\n",
    "dofs_V_partial_Omega = dolfinx.fem.locate_dofs_topological(V, boundaries.dim, facets_partial_Omega)\n",
    "bc_ex = dolfinx.fem.dirichletbc(zero, dofs_V_partial_Omega, V)"
   ]
  },
  {
   "cell_type": "code",
   "execution_count": null,
   "metadata": {},
   "outputs": [],
   "source": [
    "# Solve\n",
    "u_ex = dolfinx.fem.Function(V)\n",
    "problem_ex = dolfinx.fem.LinearProblem(\n",
    "    a_ex, f_ex, bcs=[bc_ex], u=u_ex,\n",
    "    petsc_options={\"ksp_type\": \"preonly\", \"pc_type\": \"lu\", \"pc_factor_mat_solver_type\": \"mumps\"})\n",
    "problem_ex.solve()\n",
    "u_ex.vector.ghostUpdate(addv=petsc4py.PETSc.InsertMode.INSERT, mode=petsc4py.PETSc.ScatterMode.FORWARD)"
   ]
  },
  {
   "cell_type": "code",
   "execution_count": null,
   "metadata": {},
   "outputs": [],
   "source": [
    "multiphenicsx.io.plot_scalar_field(u_ex, \"u_ex\")"
   ]
  },
  {
   "cell_type": "code",
   "execution_count": null,
   "metadata": {},
   "outputs": [],
   "source": [
    "u_ex1_norm = np.sqrt(mesh.comm.allreduce(\n",
    "    dolfinx.fem.assemble_scalar(dolfinx.fem.form(ufl.inner(u_ex, u_ex) * dx(1))), op=mpi4py.MPI.SUM))\n",
    "u_ex2_norm = np.sqrt(mesh.comm.allreduce(\n",
    "    dolfinx.fem.assemble_scalar(dolfinx.fem.form(ufl.inner(u_ex, u_ex) * dx(2))), op=mpi4py.MPI.SUM))\n",
    "err1_norm = np.sqrt(mesh.comm.allreduce(\n",
    "    dolfinx.fem.assemble_scalar(dolfinx.fem.form(ufl.inner(u_ex - u1, u_ex - u1) * dx(1))), op=mpi4py.MPI.SUM))\n",
    "err2_norm = np.sqrt(mesh.comm.allreduce(\n",
    "    dolfinx.fem.assemble_scalar(dolfinx.fem.form(ufl.inner(u_ex - u2, u_ex - u2) * dx(2))), op=mpi4py.MPI.SUM))\n",
    "print(\"Relative error on subdomain 1\", err1_norm / u_ex1_norm)\n",
    "print(\"Relative error on subdomain 2\", err2_norm / u_ex2_norm)\n",
    "assert np.isclose(err1_norm / u_ex1_norm, 0., atol=1.e-10)\n",
    "assert np.isclose(err2_norm / u_ex2_norm, 0., atol=1.e-10)"
   ]
  },
  {
   "cell_type": "code",
   "execution_count": null,
   "metadata": {},
   "outputs": [],
   "source": [
    "%%bash\n",
    "\n",
    "export LD_PRELOAD=\"\"\n",
    "ERROR_LIBRARIES=($(find /root/.cache/fenics -name '*\\.so' -exec \\\n",
    "    bash -c 'ldd $0 | grep libstdc++.so.6 1>/dev/null 2>/dev/null && echo $0' {} \\;))\n",
    "if [ ${#ERROR_LIBRARIES[@]} -eq 0 ]; then\n",
    "    echo \"No reference to libstdc++.so was found\"\n",
    "else\n",
    "    for ERROR_LIBRARY in \"${ERROR_LIBRARIES[@]}\"; do\n",
    "        echo \"Error: library $ERROR_LIBRARY depends on libstdc++.so\"\n",
    "        ldd -v $ERROR_LIBRARY\n",
    "    done\n",
    "    false\n",
    "fi"
   ]
  }
 ],
 "metadata": {
  "kernelspec": {
   "display_name": "Python 3 (ipykernel)",
   "language": "python",
   "name": "python3"
  },
  "language_info": {
   "codemirror_mode": {
    "name": "ipython"
   },
   "file_extension": ".py",
   "mimetype": "text/x-python",
   "name": "python",
   "nbconvert_exporter": "python"
  }
 },
 "nbformat": 4,
 "nbformat_minor": 2
}
