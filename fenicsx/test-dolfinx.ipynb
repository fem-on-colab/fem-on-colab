{
 "cells": [
  {
   "cell_type": "code",
   "execution_count": null,
   "id": "08f20e04",
   "metadata": {},
   "outputs": [],
   "source": [
    "import os\n",
    "arch = os.getenv(\"ARGS\", \"real\")"
   ]
  },
  {
   "cell_type": "code",
   "execution_count": null,
   "id": "mediterranean-century",
   "metadata": {},
   "outputs": [],
   "source": [
    "try:\n",
    "    import BACKEND_LIBRARY_IN  # noqa: F401\n",
    "except ImportError:\n",
    "    import ufl\n",
    "    import dolfinx\n",
    "else:\n",
    "    try:\n",
    "        import ufl\n",
    "        import dolfinx\n",
    "    except ImportError:\n",
    "        if arch != \"complex\":\n",
    "            !wget \"https://PROJECT_NAME_IN.github.io/releases/fenicsx-install-real.sh\" -O \"/tmp/fenicsx-install.sh\" && bash \"/tmp/fenicsx-install.sh\"\n",
    "        else:\n",
    "            !wget \"https://PROJECT_NAME_IN.github.io/releases/fenicsx-install-complex.sh\" -O \"/tmp/fenicsx-install.sh\" && bash \"/tmp/fenicsx-install.sh\"\n",
    "        import ufl\n",
    "        import dolfinx"
   ]
  },
  {
   "cell_type": "code",
   "execution_count": null,
   "id": "frequent-counter",
   "metadata": {},
   "outputs": [],
   "source": [
    "import numpy as np\n",
    "import petsc4py\n",
    "import petsc4py.PETSc\n",
    "if arch != \"complex\":\n",
    "    assert not np.issubdtype(petsc4py.PETSc.ScalarType, np.complexfloating)\n",
    "else:\n",
    "    assert np.issubdtype(petsc4py.PETSc.ScalarType, np.complexfloating)"
   ]
  },
  {
   "cell_type": "code",
   "execution_count": null,
   "id": "f6725082",
   "metadata": {},
   "outputs": [],
   "source": [
    "import dolfinx.fem\n",
    "import dolfinx.fem.petsc\n",
    "import dolfinx.mesh\n",
    "import dolfinx.io"
   ]
  },
  {
   "cell_type": "code",
   "execution_count": null,
   "id": "electronic-washer",
   "metadata": {},
   "outputs": [],
   "source": [
    "import mpi4py\n",
    "import mpi4py.MPI"
   ]
  },
  {
   "cell_type": "code",
   "execution_count": null,
   "id": "received-partnership",
   "metadata": {},
   "outputs": [],
   "source": [
    "mesh = dolfinx.mesh.create_unit_interval(mpi4py.MPI.COMM_WORLD, 3)"
   ]
  },
  {
   "cell_type": "code",
   "execution_count": null,
   "id": "reliable-tanzania",
   "metadata": {},
   "outputs": [],
   "source": [
    "V = dolfinx.fem.FunctionSpace(mesh, (\"CG\", 1))"
   ]
  },
  {
   "cell_type": "code",
   "execution_count": null,
   "id": "ranking-target",
   "metadata": {},
   "outputs": [],
   "source": [
    "u = ufl.TrialFunction(V)\n",
    "v = ufl.TestFunction(V)"
   ]
  },
  {
   "cell_type": "code",
   "execution_count": null,
   "id": "sitting-transcription",
   "metadata": {},
   "outputs": [],
   "source": [
    "dx = ufl.dx"
   ]
  },
  {
   "cell_type": "code",
   "execution_count": null,
   "id": "upper-cancellation",
   "metadata": {},
   "outputs": [],
   "source": [
    "f = dolfinx.fem.Function(V)\n",
    "dim_V = f.vector.local_size\n",
    "assert dim_V == 4\n",
    "f.vector[:] = np.arange(1, dim_V + 1)"
   ]
  },
  {
   "cell_type": "code",
   "execution_count": null,
   "id": "annoying-anthropology",
   "metadata": {},
   "outputs": [],
   "source": [
    "a = ufl.inner(u, v) * dx\n",
    "F = ufl.inner(f, v) * dx\n",
    "a_cpp = dolfinx.fem.form(a)\n",
    "F_cpp = dolfinx.fem.form(F)"
   ]
  },
  {
   "cell_type": "code",
   "execution_count": null,
   "id": "lonely-edgar",
   "metadata": {},
   "outputs": [],
   "source": [
    "A = dolfinx.fem.petsc.assemble_matrix(a_cpp)\n",
    "b = dolfinx.fem.petsc.assemble_vector(F_cpp)"
   ]
  },
  {
   "cell_type": "code",
   "execution_count": null,
   "id": "weird-sector",
   "metadata": {},
   "outputs": [],
   "source": [
    "A.assemble()"
   ]
  },
  {
   "cell_type": "code",
   "execution_count": null,
   "id": "intermediate-biology",
   "metadata": {},
   "outputs": [],
   "source": [
    "solution = dolfinx.fem.Function(V)"
   ]
  },
  {
   "cell_type": "code",
   "execution_count": null,
   "id": "elder-teacher",
   "metadata": {},
   "outputs": [],
   "source": [
    "for (package_number, package) in enumerate((None, \"mumps\", \"superlu\", \"superlu_dist\")):\n",
    "    ksp = petsc4py.PETSc.KSP().create()\n",
    "    ksp.setOperators(A)\n",
    "    ksp.setType(\"preonly\")\n",
    "    ksp.getPC().setType(\"lu\")\n",
    "    if package is not None:\n",
    "        ksp.getPC().setFactorSolverType(package)\n",
    "    ksp.setFromOptions()\n",
    "    ksp.solve(b, solution.vector)\n",
    "    solution.vector.ghostUpdate(addv=petsc4py.PETSc.InsertMode.INSERT, mode=petsc4py.PETSc.ScatterMode.FORWARD)\n",
    "    assert np.allclose(solution.vector.getArray(), np.arange(1, dim_V + 1))\n",
    "    with dolfinx.io.VTXWriter(mesh.comm, \"solution.bp\", solution) as vtx_file:\n",
    "        vtx_file.write(package_number * 1.0)\n",
    "    ksp.destroy()"
   ]
  },
  {
   "cell_type": "code",
   "execution_count": null,
   "id": "occasional-carpet",
   "metadata": {},
   "outputs": [],
   "source": [
    "k = ufl.inner(ufl.grad(u), ufl.grad(v)) * dx\n",
    "k_cpp = dolfinx.fem.form(k)"
   ]
  },
  {
   "cell_type": "code",
   "execution_count": null,
   "id": "seven-obligation",
   "metadata": {},
   "outputs": [],
   "source": [
    "K = dolfinx.fem.petsc.assemble_matrix(k_cpp)\n",
    "K.assemble()"
   ]
  },
  {
   "cell_type": "code",
   "execution_count": null,
   "id": "every-ribbon",
   "metadata": {},
   "outputs": [],
   "source": [
    "expected = (0, 10.8, 54, 108)"
   ]
  },
  {
   "cell_type": "code",
   "execution_count": null,
   "id": "romantic-washington",
   "metadata": {},
   "outputs": [],
   "source": [
    "import slepc4py\n",
    "import slepc4py.SLEPc"
   ]
  },
  {
   "cell_type": "code",
   "execution_count": null,
   "id": "outside-rwanda",
   "metadata": {},
   "outputs": [],
   "source": [
    "for package in (None, \"mumps\", \"superlu\", \"superlu_dist\"):\n",
    "    eps = slepc4py.SLEPc.EPS().create()\n",
    "    eps.setOperators(K, A)\n",
    "    eps.setProblemType(slepc4py.SLEPc.EPS.ProblemType.GHEP)\n",
    "    eps.setWhichEigenpairs(slepc4py.SLEPc.EPS.Which.TARGET_REAL)\n",
    "    eps.setTarget(1)\n",
    "    st = eps.getST()\n",
    "    st.setType(slepc4py.SLEPc.ST.Type.SINVERT)\n",
    "    st.setShift(1)\n",
    "    ksp = st.getKSP()\n",
    "    ksp.setType(\"preonly\")\n",
    "    pc = ksp.getPC()\n",
    "    pc.setType(\"lu\")\n",
    "    if package is not None:\n",
    "        pc.setFactorSolverType(package)\n",
    "    eps.solve()\n",
    "    assert eps.getConverged() == len(expected)\n",
    "    for (i, eig_i_ex) in enumerate(expected):\n",
    "        eig_i = eps.getEigenvalue(i)\n",
    "        assert np.isclose(eig_i.real, eig_i_ex)\n",
    "        assert np.isclose(eig_i.imag, 0)\n",
    "    eps.destroy()\n"
   ]
  },
  {
   "cell_type": "code",
   "execution_count": null,
   "id": "infectious-train",
   "metadata": {},
   "outputs": [],
   "source": [
    "%%bash\n",
    "\n",
    "if [[ -n \"$LD_PRELOAD\" ]]; then\n",
    "    export LD_PRELOAD=\"\"\n",
    "    ERROR_LIBRARIES=($(find /root/.cache/fenics -name '*\\.so' -exec \\\n",
    "        bash -c 'ldd $0 | grep libstdc++.so.6 1>/dev/null 2>/dev/null && echo $0' {} \\;))\n",
    "    if [ ${#ERROR_LIBRARIES[@]} -eq 0 ]; then\n",
    "        echo \"No reference to libstdc++.so was found\"\n",
    "    else\n",
    "        for ERROR_LIBRARY in \"${ERROR_LIBRARIES[@]}\"; do\n",
    "            echo \"Error: library $ERROR_LIBRARY depends on libstdc++.so\"\n",
    "            ldd -v $ERROR_LIBRARY\n",
    "        done\n",
    "        false\n",
    "    fi\n",
    "fi"
   ]
  }
 ],
 "metadata": {
  "kernelspec": {
   "display_name": "Python 3 (ipykernel)",
   "language": "python",
   "name": "python3"
  },
  "language_info": {
   "codemirror_mode": {
    "name": "ipython"
   },
   "file_extension": ".py",
   "mimetype": "text/x-python",
   "name": "python",
   "nbconvert_exporter": "python"
  }
 },
 "nbformat": 4,
 "nbformat_minor": 5
}
