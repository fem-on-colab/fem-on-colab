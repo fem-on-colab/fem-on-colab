{
 "cells": [
  {
   "cell_type": "code",
   "execution_count": null,
   "id": "mediterranean-century",
   "metadata": {},
   "outputs": [],
   "source": [
    "try:\n",
    "    import google.colab  # noqa: F401\n",
    "except ImportError:\n",
    "    import ufl\n",
    "    import dolfinx\n",
    "else:\n",
    "    try:\n",
    "        import dolfinx\n",
    "    except ImportError:\n",
    "        !wget \"https://fem-on-colab.github.io/releases/fenicsx-install.sh\" -O \"/tmp/fenicsx-install.sh\" && bash \"/tmp/fenicsx-install.sh\"\n",
    "        import ufl\n",
    "        import dolfinx"
   ]
  },
  {
   "cell_type": "code",
   "execution_count": null,
   "id": "ahead-benefit",
   "metadata": {},
   "outputs": [],
   "source": [
    "assert dolfinx.__version__ == \"0.1.1.dev0\""
   ]
  },
  {
   "cell_type": "code",
   "execution_count": null,
   "id": "electronic-washer",
   "metadata": {},
   "outputs": [],
   "source": [
    "from mpi4py import MPI"
   ]
  },
  {
   "cell_type": "code",
   "execution_count": null,
   "id": "received-partnership",
   "metadata": {},
   "outputs": [],
   "source": [
    "mesh = dolfinx.UnitIntervalMesh(MPI.COMM_WORLD, 3)"
   ]
  },
  {
   "cell_type": "code",
   "execution_count": null,
   "id": "reliable-tanzania",
   "metadata": {},
   "outputs": [],
   "source": [
    "V = dolfinx.FunctionSpace(mesh, (\"CG\", 1))"
   ]
  },
  {
   "cell_type": "code",
   "execution_count": null,
   "id": "ranking-target",
   "metadata": {},
   "outputs": [],
   "source": [
    "u = ufl.TrialFunction(V)\n",
    "v = ufl.TestFunction(V)"
   ]
  },
  {
   "cell_type": "code",
   "execution_count": null,
   "id": "sitting-transcription",
   "metadata": {},
   "outputs": [],
   "source": [
    "dx = ufl.dx"
   ]
  },
  {
   "cell_type": "code",
   "execution_count": null,
   "id": "statewide-offer",
   "metadata": {},
   "outputs": [],
   "source": [
    "import numpy as np"
   ]
  },
  {
   "cell_type": "code",
   "execution_count": null,
   "id": "upper-cancellation",
   "metadata": {},
   "outputs": [],
   "source": [
    "f = dolfinx.Function(V)\n",
    "dim_V = f.vector.local_size\n",
    "assert dim_V == 4\n",
    "f.vector[:] = np.arange(1, dim_V + 1)"
   ]
  },
  {
   "cell_type": "code",
   "execution_count": null,
   "id": "annoying-anthropology",
   "metadata": {},
   "outputs": [],
   "source": [
    "a = u * v * dx\n",
    "F = f * v * dx"
   ]
  },
  {
   "cell_type": "code",
   "execution_count": null,
   "id": "lonely-edgar",
   "metadata": {},
   "outputs": [],
   "source": [
    "A = dolfinx.fem.assemble_matrix(a)\n",
    "b = dolfinx.fem.assemble_vector(F)"
   ]
  },
  {
   "cell_type": "code",
   "execution_count": null,
   "id": "weird-sector",
   "metadata": {},
   "outputs": [],
   "source": [
    "A.assemble()"
   ]
  },
  {
   "cell_type": "code",
   "execution_count": null,
   "id": "intermediate-biology",
   "metadata": {},
   "outputs": [],
   "source": [
    "solution = dolfinx.Function(V)"
   ]
  },
  {
   "cell_type": "code",
   "execution_count": null,
   "id": "frequent-counter",
   "metadata": {},
   "outputs": [],
   "source": [
    "from petsc4py import PETSc"
   ]
  },
  {
   "cell_type": "code",
   "execution_count": null,
   "id": "elder-teacher",
   "metadata": {},
   "outputs": [],
   "source": [
    "for package in (None, \"mumps\", \"superlu\", \"superlu_dist\"):\n",
    "    ksp = PETSc.KSP().create()\n",
    "    ksp.setOperators(A)\n",
    "    ksp.setType(\"preonly\")\n",
    "    ksp.getPC().setType(\"lu\")\n",
    "    if package is not None:\n",
    "        ksp.getPC().setFactorSolverType(package)\n",
    "    ksp.setFromOptions()\n",
    "    ksp.solve(b, solution.vector)\n",
    "    solution.vector.ghostUpdate(addv=PETSc.InsertMode.INSERT, mode=PETSc.ScatterMode.FORWARD)\n",
    "    assert np.allclose(solution.vector.getArray(), np.arange(1, dim_V + 1))"
   ]
  },
  {
   "cell_type": "code",
   "execution_count": null,
   "id": "missing-fossil",
   "metadata": {},
   "outputs": [],
   "source": [
    "grad = ufl.grad\n",
    "inner = ufl.inner"
   ]
  },
  {
   "cell_type": "code",
   "execution_count": null,
   "id": "occasional-carpet",
   "metadata": {},
   "outputs": [],
   "source": [
    "k = inner(grad(u), grad(v)) * dx"
   ]
  },
  {
   "cell_type": "code",
   "execution_count": null,
   "id": "seven-obligation",
   "metadata": {},
   "outputs": [],
   "source": [
    "K = dolfinx.fem.assemble_matrix(k)\n",
    "K.assemble()"
   ]
  },
  {
   "cell_type": "code",
   "execution_count": null,
   "id": "every-ribbon",
   "metadata": {},
   "outputs": [],
   "source": [
    "expected = (0, 10.8, 54, 108)"
   ]
  },
  {
   "cell_type": "code",
   "execution_count": null,
   "id": "romantic-washington",
   "metadata": {},
   "outputs": [],
   "source": [
    "from slepc4py import SLEPc"
   ]
  },
  {
   "cell_type": "code",
   "execution_count": null,
   "id": "outside-rwanda",
   "metadata": {},
   "outputs": [],
   "source": [
    "for package in (None, \"mumps\", \"superlu\", \"superlu_dist\"):\n",
    "    eps = SLEPc.EPS().create()\n",
    "    eps.setOperators(K, A)\n",
    "    eps.setProblemType(SLEPc.EPS.ProblemType.GHEP)\n",
    "    eps.setWhichEigenpairs(SLEPc.EPS.Which.TARGET_REAL)\n",
    "    eps.setTarget(1)\n",
    "    st = eps.getST()\n",
    "    st.setType(SLEPc.ST.Type.SINVERT)\n",
    "    st.setShift(1)\n",
    "    ksp = st.getKSP()\n",
    "    ksp.setType(\"preonly\")\n",
    "    pc = ksp.getPC()\n",
    "    pc.setType(\"lu\")\n",
    "    if package is not None:\n",
    "        pc.setFactorSolverType(package)\n",
    "    eps.solve()\n",
    "    assert eps.getConverged() == len(expected)\n",
    "    for (i, eig_i_ex) in enumerate(expected):\n",
    "        eig_i = eps.getEigenvalue(i)\n",
    "        assert np.isclose(eig_i.real, eig_i_ex)\n",
    "        assert np.isclose(eig_i.imag, 0)"
   ]
  }
 ],
 "metadata": {
  "kernelspec": {
   "display_name": "Python 3",
   "language": "python",
   "name": "python3"
  },
  "language_info": {
   "codemirror_mode": {
    "name": "ipython"
   },
   "file_extension": ".py",
   "mimetype": "text/x-python",
   "name": "python",
   "nbconvert_exporter": "python"
  }
 },
 "nbformat": 4,
 "nbformat_minor": 5
}
