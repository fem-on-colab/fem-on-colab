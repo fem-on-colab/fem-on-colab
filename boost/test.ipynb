{
 "cells": [
  {
   "cell_type": "code",
   "execution_count": null,
   "id": "mediterranean-century",
   "metadata": {},
   "outputs": [],
   "source": [
    "try:\n",
    "    import google.colab  # noqa: F401\n",
    "except ImportError:\n",
    "    pass\n",
    "else:\n",
    "    !wget \"https://fem-on-colab.github.io/releases/boost-install.sh\" -O \"/tmp/boost-install.sh\" && bash \"/tmp/boost-install.sh\""
   ]
  },
  {
   "cell_type": "code",
   "execution_count": null,
   "id": "honest-affiliation",
   "metadata": {},
   "outputs": [],
   "source": [
    "%%file version.cpp\n",
    "#include <iostream>\n",
    "#include <boost/version.hpp>\n",
    "\n",
    "int main() {\n",
    "    std::cout << BOOST_VERSION / 100000     << \".\"  // major version\n",
    "              << BOOST_VERSION / 100 % 1000 << \".\"  // minor version\n",
    "              << BOOST_VERSION % 100;               // patch level\n",
    "}"
   ]
  },
  {
   "cell_type": "code",
   "execution_count": null,
   "id": "improved-first",
   "metadata": {},
   "outputs": [],
   "source": [
    "%%bash\n",
    "\n",
    "g++ -std=c++11 -static-libgcc -static-libstdc++ version.cpp -o version"
   ]
  },
  {
   "cell_type": "code",
   "execution_count": null,
   "id": "gross-decade",
   "metadata": {},
   "outputs": [],
   "source": [
    "output = \"\"\n",
    "error = \"\""
   ]
  },
  {
   "cell_type": "code",
   "execution_count": null,
   "id": "coral-jacksonville",
   "metadata": {},
   "outputs": [],
   "source": [
    "%%bash --out output --err error\n",
    "\n",
    "./version"
   ]
  },
  {
   "cell_type": "code",
   "execution_count": null,
   "id": "material-midnight",
   "metadata": {},
   "outputs": [],
   "source": [
    "assert output == \"1.76.0\""
   ]
  }
 ],
 "metadata": {
  "kernelspec": {
   "display_name": "Python 3",
   "language": "python",
   "name": "python3"
  },
  "language_info": {
   "codemirror_mode": {
    "name": "ipython"
   },
   "file_extension": ".py",
   "mimetype": "text/x-python",
   "name": "python",
   "nbconvert_exporter": "python"
  }
 },
 "nbformat": 4,
 "nbformat_minor": 5
}
