{
 "cells": [
  {
   "cell_type": "code",
   "execution_count": null,
   "id": "mediterranean-century",
   "metadata": {},
   "outputs": [],
   "source": [
    "try:\n",
    "    import google.colab  # noqa: F401\n",
    "except ImportError:\n",
    "    import mpi4py\n",
    "else:\n",
    "    try:\n",
    "        import mpi4py\n",
    "    except ImportError:\n",
    "        !wget \"https://fem-on-colab.github.io/releases/mpi4py-install.sh\" -O \"/tmp/mpi4py-install.sh\" && bash \"/tmp/mpi4py-install.sh\"\n",
    "        import mpi4py"
   ]
  },
  {
   "cell_type": "code",
   "execution_count": null,
   "id": "ahead-benefit",
   "metadata": {},
   "outputs": [],
   "source": [
    "assert mpi4py.__version__ == \"4.0.0.dev0\""
   ]
  },
  {
   "cell_type": "code",
   "execution_count": null,
   "id": "satisfied-january",
   "metadata": {},
   "outputs": [],
   "source": [
    "%%file helloworld.cpp\n",
    "#include <mpi.h>\n",
    "\n",
    "int main(int argc, char** argv) {\n",
    "    // Initialize the MPI environment\n",
    "    MPI_Init(NULL, NULL);\n",
    "\n",
    "    // Get the number of processes\n",
    "    int world_size;\n",
    "    MPI_Comm_size(MPI_COMM_WORLD, &world_size);\n",
    "\n",
    "    // Get the rank of the process\n",
    "    int world_rank;\n",
    "    MPI_Comm_rank(MPI_COMM_WORLD, &world_rank);\n",
    "\n",
    "    printf(\"Hello world! from rank %d\"\n",
    "           \" out of %d processors\\n\",\n",
    "           world_rank, world_size);\n",
    "\n",
    "    // Finalize the MPI environment.\n",
    "    MPI_Finalize();\n",
    "}"
   ]
  },
  {
   "cell_type": "code",
   "execution_count": null,
   "id": "hairy-tolerance",
   "metadata": {},
   "outputs": [],
   "source": [
    "%%bash\n",
    "\n",
    "mpicxx -std=c++11 -static-libstdc++ helloworld.cpp -o helloworld\n",
    "./helloworld\n",
    "mpirun --allow-run-as-root --oversubscribe -n 2 ./helloworld"
   ]
  }
 ],
 "metadata": {
  "kernelspec": {
   "display_name": "Python 3",
   "language": "python",
   "name": "python3"
  },
  "language_info": {
   "codemirror_mode": {
    "name": "ipython"
   },
   "file_extension": ".py",
   "mimetype": "text/x-python",
   "name": "python",
   "nbconvert_exporter": "python"
  }
 },
 "nbformat": 4,
 "nbformat_minor": 5
}
