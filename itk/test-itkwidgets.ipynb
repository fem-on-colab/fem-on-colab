{
 "cells": [
  {
   "cell_type": "code",
   "execution_count": null,
   "id": "47ce1a93",
   "metadata": {},
   "outputs": [],
   "source": [
    "try:\n",
    "    import google.colab  # noqa: F401\n",
    "except ImportError:\n",
    "    import itkwidgets\n",
    "else:\n",
    "    !wget \"https://fem-on-colab.github.io/releases/itk-install.sh\" -O \"/tmp/itk-install.sh\" && bash \"/tmp/itk-install.sh\"\n",
    "    import itkwidgets"
   ]
  },
  {
   "cell_type": "code",
   "execution_count": null,
   "id": "4b216423",
   "metadata": {},
   "outputs": [],
   "source": [
    "import pyvista"
   ]
  },
  {
   "cell_type": "code",
   "execution_count": null,
   "id": "6924458b",
   "metadata": {},
   "outputs": [],
   "source": [
    "itkwidgets.view(geometries=pyvista.examples.load_hexbeam())"
   ]
  }
 ],
 "metadata": {
  "kernelspec": {
   "display_name": "Python 3 (ipykernel)",
   "language": "python",
   "name": "python3"
  },
  "language_info": {
   "codemirror_mode": {
    "name": "ipython"
   },
   "file_extension": ".py",
   "mimetype": "text/x-python",
   "name": "python",
   "nbconvert_exporter": "python"
  }
 },
 "nbformat": 4,
 "nbformat_minor": 5
}
