{
 "cells": [
  {
   "cell_type": "code",
   "execution_count": null,
   "id": "b2337a46",
   "metadata": {},
   "outputs": [],
   "source": [
    "try:\n",
    "    import BACKEND_LIBRARY_IN  # noqa: F401\n",
    "except ImportError:\n",
    "    import pyvista\n",
    "else:\n",
    "    !wget \"https://PROJECT_NAME_IN.github.io/releases/vtk-install.sh\" -O \"/tmp/vtk-install.sh\" && bash \"/tmp/vtk-install.sh\"\n",
    "    import pyvista"
   ]
  },
  {
   "cell_type": "code",
   "execution_count": null,
   "id": "6d28e600-b669-407e-8e62-b4dca218463d",
   "metadata": {},
   "outputs": [],
   "source": [
    "import os"
   ]
  },
  {
   "cell_type": "code",
   "execution_count": null,
   "id": "1e3c6682",
   "metadata": {},
   "outputs": [],
   "source": [
    "import pyvista\n",
    "import pyvista.examples"
   ]
  },
  {
   "cell_type": "code",
   "execution_count": null,
   "id": "3ddf43e4",
   "metadata": {},
   "outputs": [],
   "source": [
    "mesh = pyvista.examples.download_st_helens().warp_by_scalar()"
   ]
  }
 ],
 "metadata": {
  "kernelspec": {
   "display_name": "Python 3 (ipykernel)",
   "language": "python",
   "name": "python3"
  },
  "language_info": {
   "codemirror_mode": {
    "name": "ipython"
   },
   "file_extension": ".py",
   "mimetype": "text/x-python",
   "name": "python",
   "nbconvert_exporter": "python"
  }
 },
 "nbformat": 4,
 "nbformat_minor": 5
}
