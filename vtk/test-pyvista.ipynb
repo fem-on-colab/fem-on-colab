{
 "cells": [
  {
   "cell_type": "code",
   "execution_count": null,
   "id": "b2337a46",
   "metadata": {},
   "outputs": [],
   "source": [
    "try:\n",
    "    import BACKEND_LIBRARY_IN  # noqa: F401\n",
    "except ImportError:\n",
    "    import pyvista\n",
    "else:\n",
    "    !wget \"https://PROJECT_NAME_IN.github.io/releases/vtk-install.sh\" -O \"/tmp/vtk-install.sh\" && bash \"/tmp/vtk-install.sh\"\n",
    "    import pyvista"
   ]
  },
  {
   "cell_type": "code",
   "execution_count": null,
   "id": "1e3c6682",
   "metadata": {},
   "outputs": [],
   "source": [
    "import panel\n",
    "import pyvista\n",
    "import pyvista.examples"
   ]
  },
  {
   "cell_type": "code",
   "execution_count": null,
   "id": "35b2e109-b848-4c1d-bb89-9c274ffd401f",
   "metadata": {},
   "outputs": [],
   "source": [
    "panel.extension(\"vtk\")"
   ]
  },
  {
   "cell_type": "code",
   "execution_count": null,
   "id": "3ddf43e4",
   "metadata": {},
   "outputs": [],
   "source": [
    "mesh = pyvista.examples.download_st_helens().warp_by_scalar()"
   ]
  },
  {
   "cell_type": "code",
   "execution_count": null,
   "id": "b2645c44",
   "metadata": {},
   "outputs": [],
   "source": [
    "static_plotter = pyvista.Plotter(notebook=True)\n",
    "static_plotter.add_mesh(mesh)\n",
    "static_plotter.show(jupyter_backend=\"static\", return_viewer=True)"
   ]
  },
  {
   "cell_type": "code",
   "execution_count": null,
   "id": "667fab2e",
   "metadata": {},
   "outputs": [],
   "source": [
    "panel_plotter = pyvista.Plotter(notebook=True)\n",
    "panel_plotter.add_mesh(mesh)\n",
    "panel_plotter._on_first_render_request()\n",
    "panel.panel(\n",
    "    panel_plotter.render_window, orientation_widget=panel_plotter.renderer.axes_enabled,\n",
    "    enable_keybindings=False, sizing_mode=\"stretch_width\"\n",
    ")"
   ]
  }
 ],
 "metadata": {
  "kernelspec": {
   "display_name": "Python 3 (ipykernel)",
   "language": "python",
   "name": "python3"
  },
  "language_info": {
   "codemirror_mode": {
    "name": "ipython"
   },
   "file_extension": ".py",
   "mimetype": "text/x-python",
   "name": "python",
   "nbconvert_exporter": "python"
  }
 },
 "nbformat": 4,
 "nbformat_minor": 5
}
