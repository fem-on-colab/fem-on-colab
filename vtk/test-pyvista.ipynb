{
 "cells": [
  {
   "cell_type": "code",
   "execution_count": null,
   "id": "b2337a46",
   "metadata": {},
   "outputs": [],
   "source": [
    "try:\n",
    "    import BACKEND_LIBRARY_IN  # noqa: F401\n",
    "except ImportError:\n",
    "    import pyvista\n",
    "else:\n",
    "    !wget \"https://PROJECT_NAME_IN.github.io/releases/vtk-install.sh\" -O \"/tmp/vtk-install.sh\" && bash \"/tmp/vtk-install.sh\"\n",
    "    import pyvista"
   ]
  },
  {
   "cell_type": "code",
   "execution_count": null,
   "id": "6d28e600-b669-407e-8e62-b4dca218463d",
   "metadata": {},
   "outputs": [],
   "source": [
    "import os"
   ]
  },
  {
   "cell_type": "code",
   "execution_count": null,
   "id": "1e3c6682",
   "metadata": {},
   "outputs": [],
   "source": [
    "import pyvista\n",
    "import pyvista.examples"
   ]
  },
  {
   "cell_type": "code",
   "execution_count": null,
   "id": "3ddf43e4",
   "metadata": {},
   "outputs": [],
   "source": [
    "plane = pyvista.read(pyvista.examples.planefile)"
   ]
  },
  {
   "cell_type": "code",
   "execution_count": null,
   "id": "97730afd-6abe-4f25-823f-1afd15d1f2ea",
   "metadata": {},
   "outputs": [],
   "source": [
    "if \"DISPLAY\" not in os.environ:\n",
    "    import xvfbwrapper\n",
    "    display = xvfbwrapper.Xvfb(width=300, height=300)\n",
    "    display.start()"
   ]
  },
  {
   "cell_type": "code",
   "execution_count": null,
   "id": "b2645c44",
   "metadata": {},
   "outputs": [],
   "source": [
    "static_plotter = pyvista.Plotter(notebook=True)\n",
    "static_plotter.add_mesh(plane)\n",
    "static_plotter.show(jupyter_backend=\"static\", return_viewer=True)"
   ]
  },
  {
   "cell_type": "code",
   "execution_count": null,
   "id": "7e9de105-2afe-485b-92d6-a41fd3a63506",
   "metadata": {},
   "outputs": [],
   "source": [
    "if \"DISPLAY\" not in os.environ:\n",
    "    display.stop()"
   ]
  },
  {
   "cell_type": "code",
   "execution_count": null,
   "id": "d219e8a1",
   "metadata": {},
   "outputs": [],
   "source": [
    "pythreejs_plotter = pyvista.Plotter(notebook=True)\n",
    "pythreejs_plotter.add_mesh(plane)\n",
    "pythreejs_plotter.show(jupyter_backend=\"pythreejs\", return_viewer=True)"
   ]
  }
 ],
 "metadata": {
  "kernelspec": {
   "display_name": "Python 3 (ipykernel)",
   "language": "python",
   "name": "python3"
  },
  "language_info": {
   "codemirror_mode": {
    "name": "ipython"
   },
   "file_extension": ".py",
   "mimetype": "text/x-python",
   "name": "python",
   "nbconvert_exporter": "python"
  }
 },
 "nbformat": 4,
 "nbformat_minor": 5
}
