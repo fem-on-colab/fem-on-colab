{
 "cells": [
  {
   "cell_type": "code",
   "execution_count": null,
   "id": "d699b1eb-0e69-4510-8f4a-2d6ac0415128",
   "metadata": {},
   "outputs": [],
   "source": [
    "try:\n",
    "    import BACKEND_LIBRARY_IN  # noqa: F401\n",
    "except ImportError:\n",
    "    import adios2\n",
    "else:\n",
    "    !wget \"https://PROJECT_NAME_IN.github.io/releases/vtk-install.sh\" -O \"/tmp/vtk-install.sh\" && bash \"/tmp/vtk-install.sh\"\n",
    "    import adios2"
   ]
  },
  {
   "cell_type": "code",
   "execution_count": null,
   "id": "28752721-893f-4142-bf3e-400432a32163",
   "metadata": {},
   "outputs": [],
   "source": [
    "import adios2\n",
    "import mpi4py.MPI\n",
    "import numpy as np"
   ]
  },
  {
   "cell_type": "code",
   "execution_count": null,
   "id": "7c9353b9-28e4-459e-9017-7b7a2257a2a9",
   "metadata": {},
   "outputs": [],
   "source": [
    "array = np.array([0, 1., 2., 3., 4., 5., 6., 7., 8., 9.])"
   ]
  },
  {
   "cell_type": "code",
   "execution_count": null,
   "id": "14135498",
   "metadata": {},
   "outputs": [],
   "source": [
    "adios = adios2.ADIOS(mpi4py.MPI.COMM_SELF)"
   ]
  },
  {
   "cell_type": "code",
   "execution_count": null,
   "id": "e9786f5a",
   "metadata": {},
   "outputs": [],
   "source": [
    "bp_io_writer = adios.DeclareIO(\"writer\")\n",
    "array_io = bp_io_writer.DefineVariable(\n",
    "    \"array\", array, [array.size], [0], [array.size], adios2.ConstantDims)"
   ]
  },
  {
   "cell_type": "code",
   "execution_count": null,
   "id": "10c19b16",
   "metadata": {},
   "outputs": [],
   "source": [
    "bp_file_writer = bp_io_writer.Open(\"bp_file.bp\", adios2.Mode.Write)\n",
    "bp_file_writer.Put(array_io, array, adios2.Mode.Sync)\n",
    "bp_file_writer.Close()"
   ]
  },
  {
   "cell_type": "code",
   "execution_count": null,
   "id": "28ed2363",
   "metadata": {},
   "outputs": [],
   "source": [
    "bp_io_reader = adios.DeclareIO(\"reader\")"
   ]
  },
  {
   "cell_type": "code",
   "execution_count": null,
   "id": "085e75c0",
   "metadata": {},
   "outputs": [],
   "source": [
    "bp_file_reader = bp_io_reader.Open(\"bp_file.bp\", adios2.Mode.Read, mpi4py.MPI.COMM_SELF)"
   ]
  },
  {
   "cell_type": "code",
   "execution_count": null,
   "id": "2b50251c",
   "metadata": {},
   "outputs": [],
   "source": [
    "array_in_as_variable = bp_io_reader.InquireVariable(\"array\")\n",
    "array_in = np.zeros(array_in_as_variable.SelectionSize())\n",
    "bp_file_reader.Get(array_in_as_variable, array_in, adios2.Mode.Sync)"
   ]
  },
  {
   "cell_type": "code",
   "execution_count": null,
   "id": "d0c6c4b9",
   "metadata": {},
   "outputs": [],
   "source": [
    "assert np.allclose(array, array_in)"
   ]
  }
 ],
 "metadata": {
  "kernelspec": {
   "display_name": "Python 3 (ipykernel)",
   "language": "python",
   "name": "python3"
  },
  "language_info": {
   "codemirror_mode": {
    "name": "ipython"
   },
   "file_extension": ".py",
   "mimetype": "text/x-python",
   "name": "python",
   "nbconvert_exporter": "python"
  }
 },
 "nbformat": 4,
 "nbformat_minor": 5
}
