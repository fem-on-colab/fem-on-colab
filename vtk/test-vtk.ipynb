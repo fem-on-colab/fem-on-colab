{
 "cells": [
  {
   "cell_type": "code",
   "execution_count": null,
   "id": "mediterranean-century",
   "metadata": {},
   "outputs": [],
   "source": [
    "try:\n",
    "    import BACKEND_LIBRARY_IN  # noqa: F401\n",
    "except ImportError:\n",
    "    import vtk\n",
    "else:\n",
    "    !wget \"https://PROJECT_NAME_IN.github.io/releases/vtk-install.sh\" -O \"/tmp/vtk-install.sh\" && bash \"/tmp/vtk-install.sh\"\n",
    "    import vtk"
   ]
  },
  {
   "cell_type": "code",
   "execution_count": null,
   "id": "2e0704f8",
   "metadata": {},
   "outputs": [],
   "source": [
    "import os"
   ]
  },
  {
   "cell_type": "code",
   "execution_count": null,
   "id": "08d9495a",
   "metadata": {},
   "outputs": [],
   "source": [
    "import IPython.display"
   ]
  },
  {
   "cell_type": "code",
   "execution_count": null,
   "id": "d32728b3",
   "metadata": {},
   "outputs": [],
   "source": [
    "\"\"\"\n",
    "if \"DISPLAY\" not in os.environ:\n",
    "    import xvfbwrapper\n",
    "    display = xvfbwrapper.Xvfb(width=300, height=300)\n",
    "    display.start()\n",
    "\"\"\""
   ]
  },
  {
   "cell_type": "code",
   "execution_count": null,
   "id": "antique-renewal",
   "metadata": {},
   "outputs": [],
   "source": [
    "\"\"\"\n",
    "sphere = vtk.vtkSphereSource()\n",
    "sphere.SetCenter(0.0, 0.0, 0.0)\n",
    "sphere.SetRadius(1.0)\n",
    "sphere.SetPhiResolution(360)\n",
    "sphere.SetThetaResolution(360)\n",
    "\"\"\""
   ]
  },
  {
   "cell_type": "code",
   "execution_count": null,
   "id": "younger-lebanon",
   "metadata": {},
   "outputs": [],
   "source": [
    "\"\"\"\n",
    "mapper = vtk.vtkPolyDataMapper()\n",
    "mapper.SetInputConnection(sphere.GetOutputPort())\n",
    "\"\"\""
   ]
  },
  {
   "cell_type": "code",
   "execution_count": null,
   "id": "fc636c9e",
   "metadata": {},
   "outputs": [],
   "source": [
    "\"\"\"\n",
    "actor = vtk.vtkActor()\n",
    "actor.SetMapper(mapper)\n",
    "\"\"\""
   ]
  },
  {
   "cell_type": "code",
   "execution_count": null,
   "id": "2fd5afc1",
   "metadata": {},
   "outputs": [],
   "source": [
    "\"\"\"\n",
    "renderer = vtk.vtkRenderer()\n",
    "renderer.AddActor(actor)\n",
    "\"\"\""
   ]
  },
  {
   "cell_type": "code",
   "execution_count": null,
   "id": "55d19798",
   "metadata": {},
   "outputs": [],
   "source": [
    "\"\"\"\n",
    "window = vtk.vtkRenderWindow()\n",
    "window.SetOffScreenRendering(1)\n",
    "window.AddRenderer(renderer)\n",
    "window.SetSize(300, 300)\n",
    "window.Render()\n",
    "\"\"\""
   ]
  },
  {
   "cell_type": "code",
   "execution_count": null,
   "id": "200a8543",
   "metadata": {},
   "outputs": [],
   "source": [
    "\"\"\"\n",
    "window_to_image = vtk.vtkWindowToImageFilter()\n",
    "window_to_image.SetInput(window)\n",
    "window_to_image.Update()\n",
    "\"\"\""
   ]
  },
  {
   "cell_type": "code",
   "execution_count": null,
   "id": "6dca6e80",
   "metadata": {},
   "outputs": [],
   "source": [
    "\"\"\"\n",
    "png_writer = vtk.vtkPNGWriter()\n",
    "png_writer.SetWriteToMemory(1)\n",
    "png_writer.SetInputConnection(window_to_image.GetOutputPort())\n",
    "png_writer.Write()\n",
    "\"\"\""
   ]
  },
  {
   "cell_type": "code",
   "execution_count": null,
   "id": "0484800e",
   "metadata": {},
   "outputs": [],
   "source": [
    "\"\"\"\n",
    "IPython.display.Image(memoryview(png_writer.GetResult()).tobytes())\n",
    "\"\"\""
   ]
  }
 ],
 "metadata": {
  "kernelspec": {
   "display_name": "Python 3 (ipykernel)",
   "language": "python",
   "name": "python3"
  },
  "language_info": {
   "codemirror_mode": {
    "name": "ipython"
   },
   "file_extension": ".py",
   "mimetype": "text/x-python",
   "name": "python",
   "nbconvert_exporter": "python"
  }
 },
 "nbformat": 4,
 "nbformat_minor": 5
}
