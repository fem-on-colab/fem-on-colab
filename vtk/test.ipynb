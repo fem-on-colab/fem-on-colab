{
 "cells": [
  {
   "cell_type": "code",
   "execution_count": null,
   "id": "mediterranean-century",
   "metadata": {},
   "outputs": [],
   "source": [
    "try:\n",
    "    import google.colab  # noqa: F401\n",
    "except ImportError:\n",
    "    import vtk\n",
    "else:\n",
    "    !wget \"https://fem-on-colab.github.io/releases/vtk-install.sh\" -O \"/tmp/vtk-install.sh\" && bash \"/tmp/vtk-install.sh\"\n",
    "    import vtk"
   ]
  },
  {
   "cell_type": "code",
   "execution_count": null,
   "id": "2e0704f8",
   "metadata": {},
   "outputs": [],
   "source": [
    "import os"
   ]
  },
  {
   "cell_type": "code",
   "execution_count": null,
   "id": "08d9495a",
   "metadata": {},
   "outputs": [],
   "source": [
    "import IPython.display"
   ]
  },
  {
   "cell_type": "code",
   "execution_count": null,
   "id": "d32728b3",
   "metadata": {},
   "outputs": [],
   "source": [
    "if \"DISPLAY\" not in os.environ:\n",
    "    import xvfbwrapper\n",
    "    display = xvfbwrapper.Xvfb(width=300, height=300)\n",
    "    display.start()"
   ]
  },
  {
   "cell_type": "code",
   "execution_count": null,
   "id": "antique-renewal",
   "metadata": {},
   "outputs": [],
   "source": [
    "sphere = vtk.vtkSphereSource()\n",
    "sphere.SetCenter(0.0, 0.0, 0.0)\n",
    "sphere.SetRadius(1.0)\n",
    "sphere.SetPhiResolution(360)\n",
    "sphere.SetThetaResolution(360)"
   ]
  },
  {
   "cell_type": "code",
   "execution_count": null,
   "id": "younger-lebanon",
   "metadata": {},
   "outputs": [],
   "source": [
    "mapper = vtk.vtkPolyDataMapper()\n",
    "mapper.SetInputConnection(sphere.GetOutputPort())"
   ]
  },
  {
   "cell_type": "code",
   "execution_count": null,
   "id": "fc636c9e",
   "metadata": {},
   "outputs": [],
   "source": [
    "actor = vtk.vtkActor()\n",
    "actor.SetMapper(mapper)"
   ]
  },
  {
   "cell_type": "code",
   "execution_count": null,
   "id": "2fd5afc1",
   "metadata": {},
   "outputs": [],
   "source": [
    "renderer = vtk.vtkRenderer()\n",
    "renderer.AddActor(actor)"
   ]
  },
  {
   "cell_type": "code",
   "execution_count": null,
   "id": "55d19798",
   "metadata": {},
   "outputs": [],
   "source": [
    "window = vtk.vtkRenderWindow()\n",
    "window.SetOffScreenRendering(1)\n",
    "window.AddRenderer(renderer)\n",
    "window.SetSize(300, 300)\n",
    "window.Render()"
   ]
  },
  {
   "cell_type": "code",
   "execution_count": null,
   "id": "200a8543",
   "metadata": {},
   "outputs": [],
   "source": [
    "window_to_image = vtk.vtkWindowToImageFilter()\n",
    "window_to_image.SetInput(window)\n",
    "window_to_image.Update()"
   ]
  },
  {
   "cell_type": "code",
   "execution_count": null,
   "id": "6dca6e80",
   "metadata": {},
   "outputs": [],
   "source": [
    "png_writer = vtk.vtkPNGWriter()\n",
    "png_writer.SetWriteToMemory(1)\n",
    "png_writer.SetInputConnection(window_to_image.GetOutputPort())\n",
    "png_writer.Write()"
   ]
  },
  {
   "cell_type": "code",
   "execution_count": null,
   "id": "0484800e",
   "metadata": {},
   "outputs": [],
   "source": [
    "IPython.display.Image(memoryview(png_writer.GetResult()).tobytes())"
   ]
  }
 ],
 "metadata": {
  "kernelspec": {
   "display_name": "Python 3 (ipykernel)",
   "language": "python",
   "name": "python3"
  },
  "language_info": {
   "codemirror_mode": {
    "name": "ipython"
   },
   "file_extension": ".py",
   "mimetype": "text/x-python",
   "name": "python",
   "nbconvert_exporter": "python"
  }
 },
 "nbformat": 4,
 "nbformat_minor": 5
}
