{
 "cells": [
  {
   "cell_type": "code",
   "execution_count": null,
   "id": "d699b1eb-0e69-4510-8f4a-2d6ac0415128",
   "metadata": {},
   "outputs": [],
   "source": [
    "try:\n",
    "    import google.colab  # noqa: F401\n",
    "except ImportError:\n",
    "    import pythreejs\n",
    "else:\n",
    "    !wget \"https://fem-on-colab.github.io/releases/vtk-install.sh\" -O \"/tmp/vtk-install.sh\" && bash \"/tmp/vtk-install.sh\"\n",
    "    import pythreejs"
   ]
  },
  {
   "cell_type": "code",
   "execution_count": null,
   "id": "28752721-893f-4142-bf3e-400432a32163",
   "metadata": {},
   "outputs": [],
   "source": [
    "pythreejs.BoxGeometry(\n",
    "    width=5,\n",
    "    height=10,\n",
    "    depth=15,\n",
    "    widthSegments=5,\n",
    "    heightSegments=10,\n",
    "    depthSegments=15)"
   ]
  },
  {
   "cell_type": "code",
   "execution_count": null,
   "id": "7c9353b9-28e4-459e-9017-7b7a2257a2a9",
   "metadata": {},
   "outputs": [],
   "source": [
    "pythreejs.DirectionalLight(color=\"white\", position=[3, 5, 1], intensity=0.5)"
   ]
  }
 ],
 "metadata": {
  "kernelspec": {
   "display_name": "Python 3 (ipykernel)",
   "language": "python",
   "name": "python3"
  },
  "language_info": {
   "codemirror_mode": {
    "name": "ipython"
   },
   "file_extension": ".py",
   "mimetype": "text/x-python",
   "name": "python",
   "nbconvert_exporter": "python"
  }
 },
 "nbformat": 4,
 "nbformat_minor": 5
}
