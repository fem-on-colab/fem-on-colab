{
 "cells": [
  {
   "cell_type": "code",
   "execution_count": null,
   "id": "mediterranean-century",
   "metadata": {},
   "outputs": [],
   "source": [
    "try:\n",
    "    import google.colab  # noqa: F401\n",
    "except ImportError:\n",
    "    import gmsh\n",
    "else:\n",
    "    try:\n",
    "        import gmsh\n",
    "    except ImportError:\n",
    "        !wget \"https://fem-on-colab.github.io/releases/gmsh-install.sh\" -O \"/tmp/gmsh-install.sh\" && bash \"/tmp/gmsh-install.sh\"\n",
    "        import gmsh"
   ]
  },
  {
   "cell_type": "code",
   "execution_count": null,
   "id": "ahead-benefit",
   "metadata": {},
   "outputs": [],
   "source": [
    "assert gmsh.__version__ == \"4.9.4\""
   ]
  },
  {
   "cell_type": "code",
   "execution_count": null,
   "id": "satisfied-january",
   "metadata": {},
   "outputs": [],
   "source": [
    "def unit_square_geo(h):\n",
    "    # Initialize\n",
    "    gmsh.initialize()\n",
    "    # Add model\n",
    "    gmsh.model.add(\"unit_square_geo\")\n",
    "    # Add points\n",
    "    A = gmsh.model.geo.addPoint(0.0, 0.0, 0.0, h)\n",
    "    B = gmsh.model.geo.addPoint(1.0, 0.0, 0.0, h)\n",
    "    C = gmsh.model.geo.addPoint(1.0, 1.0, 0.0, h)\n",
    "    D = gmsh.model.geo.addPoint(0.0, 1.0, 0.0, h)\n",
    "    # Add segments\n",
    "    AB = gmsh.model.geo.addLine(A, B)\n",
    "    BC = gmsh.model.geo.addLine(B, C)\n",
    "    CD = gmsh.model.geo.addLine(C, D)\n",
    "    DA = gmsh.model.geo.addLine(D, A)\n",
    "    # Add curve loop\n",
    "    ABCDA = gmsh.model.geo.addCurveLoop([AB, BC, CD, DA])\n",
    "    # Add surface\n",
    "    gmsh.model.geo.addPlaneSurface([ABCDA])\n",
    "    # Synchronize\n",
    "    gmsh.model.geo.synchronize()\n",
    "    # Generate mesh\n",
    "    gmsh.model.mesh.generate(2)\n",
    "    # Get points\n",
    "    _, points, _ = gmsh.model.mesh.getNodes()\n",
    "    points = points.reshape(-1, 3)\n",
    "    # Finalize\n",
    "    gmsh.finalize()\n",
    "    # Return\n",
    "    return points"
   ]
  },
  {
   "cell_type": "code",
   "execution_count": null,
   "id": "hairy-tolerance",
   "metadata": {},
   "outputs": [],
   "source": [
    "assert unit_square_geo(1.0).shape[0] == 5"
   ]
  },
  {
   "cell_type": "code",
   "execution_count": null,
   "id": "searching-pledge",
   "metadata": {},
   "outputs": [],
   "source": [
    "def unit_square_occ(h):\n",
    "    # Initialize\n",
    "    gmsh.initialize()\n",
    "    # Add model\n",
    "    gmsh.model.add(\"unit_square_occ\")\n",
    "    # Add square\n",
    "    gmsh.model.occ.addRectangle(0.0, 0.0, 0.0, 1.0, 1.0)\n",
    "    # Synchronize\n",
    "    gmsh.model.occ.synchronize()\n",
    "    # Assign a mesh size to all points\n",
    "    gmsh.model.mesh.setSize(gmsh.model.getEntities(0), h)\n",
    "    # Generate mesh\n",
    "    gmsh.model.mesh.generate(2)\n",
    "    # Get points\n",
    "    _, points, _ = gmsh.model.mesh.getNodes()\n",
    "    points = points.reshape(-1, 3)\n",
    "    # Finalize\n",
    "    gmsh.finalize()\n",
    "    # Return\n",
    "    return points"
   ]
  },
  {
   "cell_type": "code",
   "execution_count": null,
   "id": "flush-smooth",
   "metadata": {},
   "outputs": [],
   "source": [
    "assert unit_square_occ(1.0).shape[0] == 5"
   ]
  }
 ],
 "metadata": {
  "kernelspec": {
   "display_name": "Python 3",
   "language": "python",
   "name": "python3"
  },
  "language_info": {
   "codemirror_mode": {
    "name": "ipython"
   },
   "file_extension": ".py",
   "mimetype": "text/x-python",
   "name": "python",
   "nbconvert_exporter": "python"
  }
 },
 "nbformat": 4,
 "nbformat_minor": 5
}
