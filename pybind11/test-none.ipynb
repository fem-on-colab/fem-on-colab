{
 "cells": [
  {
   "cell_type": "code",
   "execution_count": null,
   "id": "mediterranean-century",
   "metadata": {},
   "outputs": [],
   "source": [
    "try:\n",
    "    import BACKEND_LIBRARY_IN  # noqa: F401\n",
    "except ImportError:\n",
    "    import nanobind\n",
    "    import pybind11\n",
    "else:\n",
    "    !wget \"https://PROJECT_NAME_IN.github.io/releases/pybind11-install.sh\" -O \"/tmp/pybind11-install.sh\" && bash \"/tmp/pybind11-install.sh\"\n",
    "    import nanobind  # noqa: F401\n",
    "    import pybind11  # noqa: F401"
   ]
  },
  {
   "cell_type": "code",
   "execution_count": null,
   "id": "neutral-instrumentation",
   "metadata": {},
   "outputs": [],
   "source": [
    "%%file sum.hpp\n",
    "\n",
    "int sum(int i, int j);"
   ]
  },
  {
   "cell_type": "code",
   "execution_count": null,
   "id": "honest-affiliation",
   "metadata": {},
   "outputs": [],
   "source": [
    "%%file sum.cpp\n",
    "\n",
    "int sum(int i, int j) {\n",
    "    return i + j;\n",
    "};"
   ]
  },
  {
   "cell_type": "code",
   "execution_count": null,
   "id": "regulation-clock",
   "metadata": {},
   "outputs": [],
   "source": [
    "%%file pybind11_sum.cpp\n",
    "#include <pybind11/pybind11.h>\n",
    "#include \"sum.hpp\"\n",
    "\n",
    "PYBIND11_MODULE(pybind11_sum, m) {\n",
    "    m.def(\"sum\", &sum);\n",
    "}"
   ]
  },
  {
   "cell_type": "code",
   "execution_count": null,
   "id": "b9ba3b43-4d9f-4ac6-a4a3-65350c2e057c",
   "metadata": {},
   "outputs": [],
   "source": [
    "%%file nanobind_sum.cpp\n",
    "#include <nanobind/nanobind.h>\n",
    "#include \"sum.hpp\"\n",
    "\n",
    "NB_MODULE(nanobind_sum, m) {\n",
    "    m.def(\"sum\", &sum);\n",
    "}"
   ]
  },
  {
   "cell_type": "code",
   "execution_count": null,
   "id": "defensive-figure",
   "metadata": {},
   "outputs": [],
   "source": [
    "%%file pybind11_setup.py\n",
    "import pybind11\n",
    "\n",
    "from distutils.core import Extension, setup\n",
    "\n",
    "ext_modules = [\n",
    "    Extension(\n",
    "        \"pybind11_sum\", [\"sum.cpp\", \"pybind11_sum.cpp\"],\n",
    "        include_dirs=[pybind11.get_include()],\n",
    "        language=\"c++\",\n",
    "        extra_compile_args=[\"-std=c++11\"]\n",
    "    ),\n",
    "]\n",
    "\n",
    "setup(\n",
    "    name=\"pybind11_sum\",\n",
    "    ext_modules=ext_modules\n",
    ")"
   ]
  },
  {
   "cell_type": "code",
   "execution_count": null,
   "id": "699ce263-885b-406a-b76d-87acfa88dcfb",
   "metadata": {},
   "outputs": [],
   "source": [
    "%%file nanobind_CMakeLists.txt\n",
    "\n",
    "cmake_minimum_required(VERSION 3.15)\n",
    "project(NANOBIND_SUM)\n",
    "find_package(Python 3.8 COMPONENTS Interpreter Development.Module REQUIRED)\n",
    "\n",
    "set(CMAKE_BUILD_TYPE Release CACHE STRING \"Choose the type of build.\" FORCE)\n",
    "set_property(CACHE CMAKE_BUILD_TYPE PROPERTY STRINGS \"Debug\" \"Release\" \"MinSizeRel\" \"RelWithDebInfo\")\n",
    "\n",
    "execute_process(\n",
    "  COMMAND \"${Python_EXECUTABLE}\" -m nanobind --cmake_dir\n",
    "  OUTPUT_STRIP_TRAILING_WHITESPACE OUTPUT_VARIABLE NB_DIR)\n",
    "list(APPEND CMAKE_PREFIX_PATH \"${NB_DIR}\")\n",
    "find_package(nanobind CONFIG REQUIRED)\n",
    "\n",
    "nanobind_add_module(nanobind_sum sum.cpp nanobind_sum.cpp)"
   ]
  },
  {
   "cell_type": "code",
   "execution_count": null,
   "id": "improved-first",
   "metadata": {},
   "outputs": [],
   "source": [
    "%%bash\n",
    "\n",
    "python3 pybind11_setup.py build_ext -i"
   ]
  },
  {
   "cell_type": "code",
   "execution_count": null,
   "id": "5d0142fc-83d3-4d94-83f6-2e336ccaf1b7",
   "metadata": {},
   "outputs": [],
   "source": [
    "%%bash\n",
    "\n",
    "rm -rf CMake*\n",
    "ln -s nanobind_CMakeLists.txt CMakeLists.txt\n",
    "cmake .\n",
    "VERBOSE=1 make\n",
    "rm CMakeLists.txt"
   ]
  },
  {
   "cell_type": "code",
   "execution_count": null,
   "id": "material-midnight",
   "metadata": {},
   "outputs": [],
   "source": [
    "import pybind11_sum\n",
    "assert pybind11_sum.sum(1, 2) == 3"
   ]
  },
  {
   "cell_type": "code",
   "execution_count": null,
   "id": "e5dd2bb0-e3d7-43ff-abb7-df49e1b06d36",
   "metadata": {},
   "outputs": [],
   "source": [
    "import nanobind_sum\n",
    "assert nanobind_sum.sum(1, 2) == 3"
   ]
  }
 ],
 "metadata": {
  "kernelspec": {
   "display_name": "Python 3 (ipykernel)",
   "language": "python",
   "name": "python3"
  },
  "language_info": {
   "codemirror_mode": {
    "name": "ipython"
   },
   "file_extension": ".py",
   "mimetype": "text/x-python",
   "name": "python",
   "nbconvert_exporter": "python"
  }
 },
 "nbformat": 4,
 "nbformat_minor": 5
}
