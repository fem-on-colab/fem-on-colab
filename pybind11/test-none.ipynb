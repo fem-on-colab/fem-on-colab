{
 "cells": [
  {
   "cell_type": "code",
   "execution_count": null,
   "id": "mediterranean-century",
   "metadata": {},
   "outputs": [],
   "source": [
    "try:\n",
    "    import BACKEND_LIBRARY_IN  # noqa: F401\n",
    "except ImportError:\n",
    "    import pybind11\n",
    "else:\n",
    "    try:\n",
    "        import pybind11\n",
    "    except ImportError:\n",
    "        !wget \"https://PROJECT_NAME_IN.github.io/releases/pybind11-install.sh\" -O \"/tmp/pybind11-install.sh\" && bash \"/tmp/pybind11-install.sh\"\n",
    "        import pybind11  # noqa: F401"
   ]
  },
  {
   "cell_type": "code",
   "execution_count": null,
   "id": "neutral-instrumentation",
   "metadata": {},
   "outputs": [],
   "source": [
    "%%file sum.hpp\n",
    "\n",
    "int sum(int i, int j);"
   ]
  },
  {
   "cell_type": "code",
   "execution_count": null,
   "id": "honest-affiliation",
   "metadata": {},
   "outputs": [],
   "source": [
    "%%file sum.cpp\n",
    "\n",
    "int sum(int i, int j) {\n",
    "    return i + j;\n",
    "};"
   ]
  },
  {
   "cell_type": "code",
   "execution_count": null,
   "id": "regulation-clock",
   "metadata": {},
   "outputs": [],
   "source": [
    "%%file pybind11_sum.cpp\n",
    "#include <pybind11/pybind11.h>\n",
    "#include \"sum.hpp\"\n",
    "\n",
    "PYBIND11_MODULE(pybind11_sum, m) {\n",
    "    m.def(\"sum\", &sum);\n",
    "}"
   ]
  },
  {
   "cell_type": "code",
   "execution_count": null,
   "id": "defensive-figure",
   "metadata": {},
   "outputs": [],
   "source": [
    "%%file setup.py\n",
    "import pybind11\n",
    "\n",
    "from distutils.core import Extension, setup\n",
    "\n",
    "ext_modules = [\n",
    "    Extension(\n",
    "        \"pybind11_sum\", [\"sum.cpp\", \"pybind11_sum.cpp\"],\n",
    "        include_dirs=[pybind11.get_include()],\n",
    "        language=\"c++\",\n",
    "        extra_compile_args=[\"-std=c++11\", \"-static-libstdc++\"],\n",
    "        extra_link_args=[\"-static-libstdc++\"]\n",
    "    ),\n",
    "]\n",
    "\n",
    "setup(\n",
    "    name=\"pybind11_sum\",\n",
    "    ext_modules=ext_modules\n",
    ")"
   ]
  },
  {
   "cell_type": "code",
   "execution_count": null,
   "id": "improved-first",
   "metadata": {},
   "outputs": [],
   "source": [
    "%%bash\n",
    "\n",
    "python3 setup.py build_ext -i"
   ]
  },
  {
   "cell_type": "code",
   "execution_count": null,
   "id": "coral-jacksonville",
   "metadata": {},
   "outputs": [],
   "source": [
    "%%bash\n",
    "\n",
    "LD_PRELOAD=\"\" ldd pybind11_sum*.so | grep libstdc++.so.6 1>/dev/null 2>/dev/null && false || true"
   ]
  },
  {
   "cell_type": "code",
   "execution_count": null,
   "id": "material-midnight",
   "metadata": {},
   "outputs": [],
   "source": [
    "import pybind11_sum\n",
    "assert pybind11_sum.sum(1, 2) == 3"
   ]
  }
 ],
 "metadata": {
  "kernelspec": {
   "display_name": "Python 3 (ipykernel)",
   "language": "python",
   "name": "python3"
  },
  "language_info": {
   "codemirror_mode": {
    "name": "ipython"
   },
   "file_extension": ".py",
   "mimetype": "text/x-python",
   "name": "python",
   "nbconvert_exporter": "python"
  }
 },
 "nbformat": 4,
 "nbformat_minor": 5
}
