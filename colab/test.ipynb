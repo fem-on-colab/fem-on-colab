{
 "cells": [
  {
   "cell_type": "code",
   "execution_count": null,
   "id": "6027b8b5",
   "metadata": {},
   "outputs": [],
   "source": [
    "import os\n",
    "os.getenv(\"LAST_FORCED_REBUILD\", \"Not on Google Colab\")"
   ]
  },
  {
   "cell_type": "code",
   "execution_count": null,
   "id": "animated-defeat",
   "metadata": {},
   "outputs": [],
   "source": [
    "import sys\n",
    "assert sys.version_info.major == 3\n",
    "assert sys.version_info.minor == 7"
   ]
  },
  {
   "cell_type": "code",
   "execution_count": null,
   "id": "involved-grove",
   "metadata": {},
   "outputs": [],
   "source": [
    "import numpy\n",
    "assert numpy.version.version == \"1.21.6\""
   ]
  },
  {
   "cell_type": "code",
   "execution_count": null,
   "id": "monthly-reconstruction",
   "metadata": {},
   "outputs": [],
   "source": [
    "import matplotlib\n",
    "assert matplotlib.__version__ == \"3.2.2\""
   ]
  },
  {
   "cell_type": "code",
   "execution_count": null,
   "id": "accessible-brazil",
   "metadata": {},
   "outputs": [],
   "source": [
    "import scipy\n",
    "assert scipy.__version__ == \"1.7.3\""
   ]
  },
  {
   "cell_type": "code",
   "execution_count": null,
   "id": "molecular-jamaica",
   "metadata": {},
   "outputs": [],
   "source": [
    "import Cython\n",
    "assert Cython.__version__ == \"0.29.32\""
   ]
  },
  {
   "cell_type": "code",
   "execution_count": null,
   "id": "dying-sigma",
   "metadata": {},
   "outputs": [],
   "source": [
    "import sympy\n",
    "assert sympy.__version__ == \"1.7.1\""
   ]
  },
  {
   "cell_type": "code",
   "execution_count": null,
   "id": "cfb1e099-19ae-4d46-94cd-e1ce66c5e60a",
   "metadata": {},
   "outputs": [],
   "source": [
    "import PIL\n",
    "assert PIL.__version__ == \"7.1.2\""
   ]
  }
 ],
 "metadata": {
  "kernelspec": {
   "display_name": "Python 3 (ipykernel)",
   "language": "python",
   "name": "python3"
  },
  "language_info": {
   "codemirror_mode": {
    "name": "ipython"
   },
   "file_extension": ".py",
   "mimetype": "text/x-python",
   "name": "python",
   "nbconvert_exporter": "python"
  }
 },
 "nbformat": 4,
 "nbformat_minor": 5
}
