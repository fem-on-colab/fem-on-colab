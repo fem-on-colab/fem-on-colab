{
 "cells": [
  {
   "cell_type": "code",
   "execution_count": null,
   "id": "cd7448e2-78d5-4e90-aff2-831b6704be15",
   "metadata": {},
   "outputs": [],
   "source": [
    "import os\n",
    "args = os.getenv(\"ARGS\", \"release real\").split(\" \")\n",
    "release = args[0]\n",
    "arch = args[1]"
   ]
  },
  {
   "cell_type": "code",
   "execution_count": null,
   "id": "19ca3206",
   "metadata": {},
   "outputs": [],
   "source": [
    "try:\n",
    "    import BACKEND_LIBRARY_IN  # noqa: F401\n",
    "except ImportError:\n",
    "    import ngsolve\n",
    "else:\n",
    "    try:\n",
    "        import ngsolve\n",
    "    except ImportError:\n",
    "        if release != \"development\":\n",
    "            if arch != \"complex\":\n",
    "                !wget \"https://PROJECT_NAME_IN.github.io/releases/ngsolve-install-release-real.sh\" -O \"/tmp/ngsolve-install.sh\" && bash \"/tmp/ngsolve-install.sh\"\n",
    "            else:\n",
    "                !wget \"https://PROJECT_NAME_IN.github.io/releases/ngsolve-install-release-complex.sh\" -O \"/tmp/ngsolve-install.sh\" && bash \"/tmp/ngsolve-install.sh\"\n",
    "        else:\n",
    "            if arch != \"complex\":\n",
    "                !wget \"https://PROJECT_NAME_IN.github.io/releases/ngsolve-install-development-real.sh\" -O \"/tmp/ngsolve-install.sh\" && bash \"/tmp/ngsolve-install.sh\"\n",
    "            else:\n",
    "                !wget \"https://PROJECT_NAME_IN.github.io/releases/ngsolve-install-development-complex.sh\" -O \"/tmp/ngsolve-install.sh\" && bash \"/tmp/ngsolve-install.sh\"\n",
    "        import ngsolve  # noqa: F401"
   ]
  },
  {
   "cell_type": "code",
   "execution_count": null,
   "id": "654165a6",
   "metadata": {},
   "outputs": [],
   "source": [
    "# Adapted from ngsxfem-jupyter/cutfem.ipynb"
   ]
  },
  {
   "cell_type": "code",
   "execution_count": null,
   "id": "c649de1b",
   "metadata": {},
   "outputs": [],
   "source": [
    "from ngsolve import *\n",
    "from xfem import *\n",
    "from netgen.geom2d import SplineGeometry"
   ]
  },
  {
   "cell_type": "code",
   "execution_count": null,
   "id": "8309fcaa",
   "metadata": {},
   "outputs": [],
   "source": [
    "square = SplineGeometry()\n",
    "square.AddRectangle([-1.5, -1.5], [1.5, 1.5], bc=1)\n",
    "mesh = Mesh(square.GenerateMesh(maxh=0.4, quad_dominated=False))\n",
    "levelset = (sqrt(x * x + y * y) - 1.0)\n",
    "lsetp1 = GridFunction(H1(mesh, order=1))\n",
    "InterpolateToP1(levelset, lsetp1)"
   ]
  },
  {
   "cell_type": "code",
   "execution_count": null,
   "id": "3c28ee93",
   "metadata": {},
   "outputs": [],
   "source": [
    "Vh = H1(mesh, order=2, dirichlet=[1, 2, 3, 4])\n",
    "ci = CutInfo(mesh, lsetp1)\n",
    "VhG = FESpace([Compress(Vh, GetDofsOfElements(Vh, ci.GetElementsOfType(cdt))) for cdt in [HASNEG, HASPOS]])\n",
    "freedofs = VhG.FreeDofs()\n",
    "gfu = GridFunction(VhG)\n",
    "gfu.components[0].Set(1)\n",
    "gfu.components[1].Set(-1)\n",
    "print(Vh.ndof, VhG.components[0].ndof, VhG.components[1].ndof)"
   ]
  },
  {
   "cell_type": "code",
   "execution_count": null,
   "id": "36e31f28",
   "metadata": {},
   "outputs": [],
   "source": [
    "kappaminus = CutRatioGF(ci)\n",
    "kappa = (kappaminus, 1 - kappaminus)\n",
    "n = Normalize(grad(lsetp1))\n",
    "h = specialcf.mesh_size\n",
    "alpha = [1.0, 20.0]\n",
    "stab = 20 * (alpha[1] + alpha[0]) / h"
   ]
  },
  {
   "cell_type": "code",
   "execution_count": null,
   "id": "8419b4bd",
   "metadata": {},
   "outputs": [],
   "source": [
    "u, v = VhG.TnT()\n",
    "average_flux_u = sum([- kappa[i] * alpha[i] * grad(u[i]) * n for i in [0, 1]])\n",
    "average_flux_v = sum([- kappa[i] * alpha[i] * grad(v[i]) * n for i in [0, 1]])\n",
    "jump_u = u[0] - u[1]\n",
    "jump_v = v[0] - v[1]"
   ]
  },
  {
   "cell_type": "code",
   "execution_count": null,
   "id": "1967c206",
   "metadata": {},
   "outputs": [],
   "source": [
    "dx_neg = dCut(levelset=lsetp1, domain_type=NEG, definedonelements=ci.GetElementsOfType(HASNEG))\n",
    "dx_pos = dCut(levelset=lsetp1, domain_type=POS, definedonelements=ci.GetElementsOfType(HASPOS))\n",
    "ds = dCut(levelset=lsetp1, domain_type=IF, definedonelements=ci.GetElementsOfType(IF))"
   ]
  },
  {
   "cell_type": "code",
   "execution_count": null,
   "id": "fb1a63f0",
   "metadata": {},
   "outputs": [],
   "source": [
    "a = BilinearForm(VhG, symmetric=True)\n",
    "a += alpha[0] * grad(u[0]) * grad(v[0]) * dx_neg\n",
    "a += alpha[1] * grad(u[1]) * grad(v[1]) * dx_pos\n",
    "a += (average_flux_u * jump_v + average_flux_v * jump_u + stab * jump_u * jump_v) * ds\n",
    "a.Assemble()"
   ]
  },
  {
   "cell_type": "code",
   "execution_count": null,
   "id": "146fb195",
   "metadata": {},
   "outputs": [],
   "source": [
    "coef_f = [1, 0]\n",
    "f = LinearForm(VhG)\n",
    "f += coef_f[0] * v[0] * dx_neg\n",
    "f += coef_f[1] * v[1] * dx_pos\n",
    "f.Assemble()"
   ]
  },
  {
   "cell_type": "code",
   "execution_count": null,
   "id": "531c7c0c",
   "metadata": {},
   "outputs": [],
   "source": [
    "gfu.vec[:] = 0\n",
    "f.vec.data -= a.mat * gfu.vec\n",
    "gfu.vec.data += a.mat.Inverse(freedofs) * f.vec"
   ]
  }
 ],
 "metadata": {
  "kernelspec": {
   "display_name": "Python 3 (ipykernel)",
   "language": "python",
   "name": "python3"
  },
  "language_info": {
   "codemirror_mode": {
    "name": "ipython"
   },
   "file_extension": ".py",
   "mimetype": "text/x-python",
   "name": "python",
   "nbconvert_exporter": "python"
  }
 },
 "nbformat": 4,
 "nbformat_minor": 5
}
