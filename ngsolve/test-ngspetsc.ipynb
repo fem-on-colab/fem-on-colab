{
 "cells": [
  {
   "cell_type": "code",
   "execution_count": null,
   "id": "b2b9eeb8-a267-4c9f-89b6-ed331d8d7711",
   "metadata": {},
   "outputs": [],
   "source": [
    "import os\n",
    "arch = os.getenv(\"ARGS\", \"real\")"
   ]
  },
  {
   "cell_type": "code",
   "execution_count": null,
   "id": "12761f4b-8535-4d50-bbc8-1ba5e617eb69",
   "metadata": {},
   "outputs": [],
   "source": [
    "# PYTEST_XFAIL_AND_SKIP_NEXT: blocked by https://github.com/NGSolve/ngsPETSc/issues/17\n",
    "assert arch == \"real\""
   ]
  },
  {
   "cell_type": "code",
   "execution_count": null,
   "id": "mediterranean-century",
   "metadata": {},
   "outputs": [],
   "source": [
    "try:\n",
    "    import BACKEND_LIBRARY_IN  # noqa: F401\n",
    "except ImportError:\n",
    "    import ngsolve\n",
    "else:\n",
    "    try:\n",
    "        import ngsolve\n",
    "    except ImportError:\n",
    "        if arch != \"complex\":\n",
    "            !wget \"https://PROJECT_NAME_IN.github.io/releases/ngsolve-install-real.sh\" -O \"/tmp/ngsolve-install.sh\" && bash \"/tmp/ngsolve-install.sh\"\n",
    "        else:\n",
    "            !wget \"https://PROJECT_NAME_IN.github.io/releases/ngsolve-install-complex.sh\" -O \"/tmp/ngsolve-install.sh\" && bash \"/tmp/ngsolve-install.sh\"\n",
    "        import ngsolve  # noqa: F401"
   ]
  },
  {
   "cell_type": "code",
   "execution_count": null,
   "id": "0228f8c8-321f-4f2c-832b-e45995b782ca",
   "metadata": {},
   "outputs": [],
   "source": [
    "import numpy as np\n",
    "import petsc4py\n",
    "import petsc4py.PETSc\n",
    "if arch != \"complex\":\n",
    "    assert not np.issubdtype(petsc4py.PETSc.ScalarType, np.complexfloating)\n",
    "else:\n",
    "    assert np.issubdtype(petsc4py.PETSc.ScalarType, np.complexfloating)"
   ]
  },
  {
   "cell_type": "code",
   "execution_count": null,
   "id": "received-partnership",
   "metadata": {},
   "outputs": [],
   "source": [
    "from mpi4py.MPI import COMM_WORLD\n",
    "from ngsolve import *\n",
    "from ngsPETSc import KrylovSolver"
   ]
  },
  {
   "cell_type": "code",
   "execution_count": null,
   "id": "reliable-tanzania",
   "metadata": {},
   "outputs": [],
   "source": [
    "mesh = Mesh(unit_square.GenerateMesh(maxh=0.5).Distribute(COMM_WORLD))"
   ]
  },
  {
   "cell_type": "code",
   "execution_count": null,
   "id": "large-simple",
   "metadata": {},
   "outputs": [],
   "source": [
    "fes = H1(mesh, order=1)"
   ]
  },
  {
   "cell_type": "code",
   "execution_count": null,
   "id": "secret-significance",
   "metadata": {},
   "outputs": [],
   "source": [
    "u = fes.TrialFunction()\n",
    "v = fes.TestFunction()"
   ]
  },
  {
   "cell_type": "code",
   "execution_count": null,
   "id": "lesbian-bride",
   "metadata": {},
   "outputs": [],
   "source": [
    "a = BilinearForm(fes, symmetric=True)\n",
    "a += u * v * dx\n",
    "a.Assemble()"
   ]
  },
  {
   "cell_type": "code",
   "execution_count": null,
   "id": "introductory-monday",
   "metadata": {},
   "outputs": [],
   "source": [
    "gff = GridFunction(fes)\n",
    "for i in range(fes.ndof):\n",
    "    gff.vec[i] = i + 1"
   ]
  },
  {
   "cell_type": "code",
   "execution_count": null,
   "id": "involved-grocery",
   "metadata": {},
   "outputs": [],
   "source": [
    "F = LinearForm(fes)\n",
    "F += gff * v * dx"
   ]
  },
  {
   "cell_type": "code",
   "execution_count": null,
   "id": "applied-duplicate",
   "metadata": {},
   "outputs": [],
   "source": [
    "solver = KrylovSolver(a, fes, solverParameters={\"ksp_type\": \"preonly\", \"pc_type\": \"lu\"})\n",
    "gfu = solver.solve(F)"
   ]
  },
  {
   "cell_type": "code",
   "execution_count": null,
   "id": "intermediate-causing",
   "metadata": {},
   "outputs": [],
   "source": [
    "import numpy as np"
   ]
  },
  {
   "cell_type": "code",
   "execution_count": null,
   "id": "laden-shock",
   "metadata": {},
   "outputs": [],
   "source": [
    "for i in range(fes.ndof):\n",
    "    assert np.isclose(gfu.vec[i], i + 1)"
   ]
  }
 ],
 "metadata": {
  "kernelspec": {
   "display_name": "Python 3 (ipykernel)",
   "language": "python",
   "name": "python3"
  },
  "language_info": {
   "codemirror_mode": {
    "name": "ipython"
   },
   "file_extension": ".py",
   "mimetype": "text/x-python",
   "name": "python",
   "nbconvert_exporter": "python"
  }
 },
 "nbformat": 4,
 "nbformat_minor": 5
}
