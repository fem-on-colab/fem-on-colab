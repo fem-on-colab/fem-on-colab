{
 "cells": [
  {
   "cell_type": "code",
   "execution_count": null,
   "id": "mediterranean-century",
   "metadata": {},
   "outputs": [],
   "source": [
    "try:\n",
    "    import google.colab  # noqa: F401\n",
    "except ImportError:\n",
    "    import ngsolve  # noqa: F401\n",
    "else:\n",
    "    try:\n",
    "        import ngsolve\n",
    "    except ImportError:\n",
    "        !wget \"https://fem-on-colab.github.io/releases/ngsolve-install.sh\" -O \"/tmp/ngsolve-install.sh\" && bash \"/tmp/ngsolve-install.sh\"\n",
    "        import ngsolve  # noqa: F401"
   ]
  },
  {
   "cell_type": "code",
   "execution_count": null,
   "id": "received-partnership",
   "metadata": {},
   "outputs": [],
   "source": [
    "from netgen.meshing import Element1D, Mesh as NetgenMesh, MeshPoint, Pnt\n",
    "from ngsolve import *\n",
    "from ngsolve.webgui import Draw"
   ]
  },
  {
   "cell_type": "code",
   "execution_count": null,
   "id": "reliable-tanzania",
   "metadata": {},
   "outputs": [],
   "source": [
    "mesh = NetgenMesh(dim=1)\n",
    "point_ids = [mesh.Add(MeshPoint(Pnt(i / 4, 0, 0))) for i in range(0, 4)]\n",
    "[mesh.Add(Element1D([point_ids[i], point_ids[i + 1]], index=1)) for i in range(0, 3)]\n",
    "mesh.SetMaterial(1, \"interval\")\n",
    "mesh = Mesh(mesh)"
   ]
  },
  {
   "cell_type": "code",
   "execution_count": null,
   "id": "498eb4a1",
   "metadata": {},
   "outputs": [],
   "source": [
    "Draw(mesh)"
   ]
  },
  {
   "cell_type": "code",
   "execution_count": null,
   "id": "large-simple",
   "metadata": {},
   "outputs": [],
   "source": [
    "fes = H1(mesh, order=1)\n",
    "assert fes.ndof == 4"
   ]
  },
  {
   "cell_type": "code",
   "execution_count": null,
   "id": "secret-significance",
   "metadata": {},
   "outputs": [],
   "source": [
    "u = fes.TrialFunction()\n",
    "v = fes.TestFunction()"
   ]
  },
  {
   "cell_type": "code",
   "execution_count": null,
   "id": "lesbian-bride",
   "metadata": {},
   "outputs": [],
   "source": [
    "a = BilinearForm(fes, symmetric=True)\n",
    "a += u * v * dx\n",
    "a.Assemble()"
   ]
  },
  {
   "cell_type": "code",
   "execution_count": null,
   "id": "introductory-monday",
   "metadata": {},
   "outputs": [],
   "source": [
    "gff = GridFunction(fes)\n",
    "for i in range(fes.ndof):\n",
    "    gff.vec[i] = i + 1"
   ]
  },
  {
   "cell_type": "code",
   "execution_count": null,
   "id": "involved-grocery",
   "metadata": {},
   "outputs": [],
   "source": [
    "F = LinearForm(fes)\n",
    "F += gff * v * dx\n",
    "F.Assemble()"
   ]
  },
  {
   "cell_type": "code",
   "execution_count": null,
   "id": "applied-duplicate",
   "metadata": {},
   "outputs": [],
   "source": [
    "gfu = GridFunction(fes)\n",
    "gfu.vec.data = a.mat.Inverse(freedofs=fes.FreeDofs()) * F.vec"
   ]
  },
  {
   "cell_type": "code",
   "execution_count": null,
   "id": "cca4ad46",
   "metadata": {},
   "outputs": [],
   "source": [
    "Draw(gfu)"
   ]
  },
  {
   "cell_type": "code",
   "execution_count": null,
   "id": "intermediate-causing",
   "metadata": {},
   "outputs": [],
   "source": [
    "import numpy as np"
   ]
  },
  {
   "cell_type": "code",
   "execution_count": null,
   "id": "laden-shock",
   "metadata": {},
   "outputs": [],
   "source": [
    "for i in range(fes.ndof):\n",
    "    assert np.isclose(gfu.vec[i], i + 1)"
   ]
  }
 ],
 "metadata": {
  "kernelspec": {
   "display_name": "Python 3 (ipykernel)",
   "language": "python",
   "name": "python3"
  },
  "language_info": {
   "codemirror_mode": {
    "name": "ipython"
   },
   "file_extension": ".py",
   "mimetype": "text/x-python",
   "name": "python",
   "nbconvert_exporter": "python"
  }
 },
 "nbformat": 4,
 "nbformat_minor": 5
}
