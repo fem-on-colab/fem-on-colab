{
 "cells": [
  {
   "cell_type": "code",
   "execution_count": null,
   "id": "ae0954cb-f284-45ef-b2af-0cd9631f789c",
   "metadata": {},
   "outputs": [],
   "source": [
    "import os\n",
    "args = os.getenv(\"ARGS\", \"release real\").split(\" \")\n",
    "release = args[0]\n",
    "arch = args[1]"
   ]
  },
  {
   "cell_type": "code",
   "execution_count": null,
   "id": "mediterranean-century",
   "metadata": {},
   "outputs": [],
   "source": [
    "try:\n",
    "    import BACKEND_LIBRARY_IN  # noqa: F401\n",
    "except ImportError:\n",
    "    import ngsolve\n",
    "else:\n",
    "    try:\n",
    "        import ngsolve\n",
    "    except ImportError:\n",
    "        if release != \"development\":\n",
    "            if arch != \"complex\":\n",
    "                !wget \"https://PROJECT_NAME_IN.github.io/releases/ngsolve-install-release-real.sh\" -O \"/tmp/ngsolve-install.sh\" && bash \"/tmp/ngsolve-install.sh\"\n",
    "            else:\n",
    "                !wget \"https://PROJECT_NAME_IN.github.io/releases/ngsolve-install-release-complex.sh\" -O \"/tmp/ngsolve-install.sh\" && bash \"/tmp/ngsolve-install.sh\"\n",
    "        else:\n",
    "            if arch != \"complex\":\n",
    "                !wget \"https://PROJECT_NAME_IN.github.io/releases/ngsolve-install-development-real.sh\" -O \"/tmp/ngsolve-install.sh\" && bash \"/tmp/ngsolve-install.sh\"\n",
    "            else:\n",
    "                !wget \"https://PROJECT_NAME_IN.github.io/releases/ngsolve-install-development-complex.sh\" -O \"/tmp/ngsolve-install.sh\" && bash \"/tmp/ngsolve-install.sh\"\n",
    "        import ngsolve  # noqa: F401"
   ]
  },
  {
   "cell_type": "code",
   "execution_count": null,
   "id": "0a278866",
   "metadata": {},
   "outputs": [],
   "source": [
    "# Adapted from https://ngsolve.org/docu/latest/i-tutorials/unit-1.7-helmholtz/pml.html"
   ]
  },
  {
   "cell_type": "code",
   "execution_count": null,
   "id": "received-partnership",
   "metadata": {},
   "outputs": [],
   "source": [
    "from netgen.geom2d import SplineGeometry\n",
    "from ngsolve import *\n",
    "from ngsolve.webgui import Draw"
   ]
  },
  {
   "cell_type": "code",
   "execution_count": null,
   "id": "reliable-tanzania",
   "metadata": {},
   "outputs": [],
   "source": [
    "geo = SplineGeometry()\n",
    "geo.AddCircle((0, 0), 1.4, leftdomain=2, bc=\"outerbnd\")\n",
    "geo.AddCircle((0, 0), 1, leftdomain=1, rightdomain=2, bc=\"innerbnd\")\n",
    "geo.SetMaterial(1, \"inner\")\n",
    "geo.SetMaterial(2, \"pmlregion\")\n",
    "mesh = Mesh(geo.GenerateMesh(maxh=0.1))\n",
    "mesh.Curve(3)\n",
    "mesh.SetPML(pml.Radial(rad=1, alpha=1j, origin=(0, 0)), \"pmlregion\")"
   ]
  },
  {
   "cell_type": "code",
   "execution_count": null,
   "id": "26faa448",
   "metadata": {},
   "outputs": [],
   "source": [
    "Draw(mesh)"
   ]
  },
  {
   "cell_type": "code",
   "execution_count": null,
   "id": "large-simple",
   "metadata": {},
   "outputs": [],
   "source": [
    "fes = H1(mesh, order=4, complex=True)"
   ]
  },
  {
   "cell_type": "code",
   "execution_count": null,
   "id": "secret-significance",
   "metadata": {},
   "outputs": [],
   "source": [
    "u = fes.TrialFunction()\n",
    "v = fes.TestFunction()"
   ]
  },
  {
   "cell_type": "code",
   "execution_count": null,
   "id": "lesbian-bride",
   "metadata": {},
   "outputs": [],
   "source": [
    "omega = 10\n",
    "a = BilinearForm(fes)\n",
    "a += grad(u) * grad(v) * dx - omega**2 * u * v * dx\n",
    "a += -1j * omega * u * v * ds(\"outerbnd\")\n",
    "a.Assemble()"
   ]
  },
  {
   "cell_type": "code",
   "execution_count": null,
   "id": "introductory-monday",
   "metadata": {},
   "outputs": [],
   "source": [
    "f = exp(-20**2 * ((x - 0.3) * (x - 0.3) + y * y))\n",
    "b = LinearForm(fes)\n",
    "b += f * v * dx\n",
    "b.Assemble()"
   ]
  },
  {
   "cell_type": "code",
   "execution_count": null,
   "id": "involved-grocery",
   "metadata": {},
   "outputs": [],
   "source": [
    "gfu = GridFunction(fes)\n",
    "gfu.vec.data = a.mat.Inverse() * b.vec"
   ]
  },
  {
   "cell_type": "code",
   "execution_count": null,
   "id": "4684ecf5",
   "metadata": {},
   "outputs": [],
   "source": [
    "Draw(gfu)"
   ]
  },
  {
   "cell_type": "code",
   "execution_count": null,
   "id": "intermediate-causing",
   "metadata": {},
   "outputs": [],
   "source": [
    "geo = SplineGeometry()\n",
    "pnums = [\n",
    "    geo.AddPoint(x, y, maxh=maxh) for x, y, maxh in [\n",
    "        (-2, 0, 1), (-1, 0, 1), (-0.2, 0, 0.01), (-0.2, -0.8, 1), (0.2, -0.8, 1), (0.2, 0, 0.01),\n",
    "        (1, 0, 1), (2, 0, 1), (2, 2, 1), (0, 2, 1), (-2, 2, 1), (1, 1, 1), (0, 1, 1), (-1, 1, 1)]]\n",
    "lines = [\n",
    "    (0, 1, \"dir\", 2, 0), (1, 2, \"dir\", 1, 0), (2, 3, \"dir\", 1, 0), (3, 4, \"dir\", 1, 0), (4, 5, \"dir\", 1, 0),\n",
    "    (5, 6, \"dir\", 1, 0), (6, 7, \"dir\", 2, 0)]\n",
    "curves = [\n",
    "    (7, 8, 9, \"outer\", 2, 0), (9, 10, 0, \"outer\", 2, 0), (6, 11, 12, \"inner\", 1, 2), (12, 13, 1, \"inner\", 1, 2)]\n",
    "for p1, p2, bc, left, right in lines:\n",
    "    geo.Append([\"line\", pnums[p1], pnums[p2]], bc=bc, leftdomain=left, rightdomain=right)\n",
    "for p1, p2, p3, bc, left, right in curves:\n",
    "    geo.Append([\"spline3\", pnums[p1], pnums[p2], pnums[p3]], bc=bc, leftdomain=left, rightdomain=right)\n",
    "geo.SetMaterial(1, \"air\")\n",
    "geo.SetMaterial(2, \"pml\")"
   ]
  },
  {
   "cell_type": "code",
   "execution_count": null,
   "id": "laden-shock",
   "metadata": {},
   "outputs": [],
   "source": [
    "mesh = Mesh(geo.GenerateMesh(maxh=0.1))\n",
    "mesh.Curve(5)\n",
    "mesh.SetPML(pml.Radial(rad=1, alpha=1j, origin=(0, 0)), \"pml\")"
   ]
  },
  {
   "cell_type": "code",
   "execution_count": null,
   "id": "2767a07c",
   "metadata": {},
   "outputs": [],
   "source": [
    "Draw(mesh)"
   ]
  },
  {
   "cell_type": "code",
   "execution_count": null,
   "id": "2b72d951",
   "metadata": {},
   "outputs": [],
   "source": [
    "fes = H1(mesh, order=4, complex=True, dirichlet=\"dir\")"
   ]
  },
  {
   "cell_type": "code",
   "execution_count": null,
   "id": "b2ea8ec3",
   "metadata": {},
   "outputs": [],
   "source": [
    "u = fes.TrialFunction()\n",
    "v = fes.TestFunction()"
   ]
  },
  {
   "cell_type": "code",
   "execution_count": null,
   "id": "b1922975",
   "metadata": {},
   "outputs": [],
   "source": [
    "a = BilinearForm(fes, symmetric=True)\n",
    "a += grad(u) * grad(v) * dx\n",
    "a.Assemble()"
   ]
  },
  {
   "cell_type": "code",
   "execution_count": null,
   "id": "7b79eab4",
   "metadata": {},
   "outputs": [],
   "source": [
    "m = BilinearForm(fes, symmetric=True)\n",
    "m += u * v * dx\n",
    "m.Assemble()"
   ]
  },
  {
   "cell_type": "code",
   "execution_count": null,
   "id": "1708df8b",
   "metadata": {},
   "outputs": [],
   "source": [
    "u = GridFunction(fes, multidim=50, name=\"resonances\")"
   ]
  },
  {
   "cell_type": "code",
   "execution_count": null,
   "id": "c24ea499",
   "metadata": {},
   "outputs": [],
   "source": [
    "lam = ArnoldiSolver(a.mat, m.mat, fes.FreeDofs(), list(u.vecs), shift=400)\n",
    "lamr = [sqrt(lam_).real for lam_ in lam]\n",
    "lami = [sqrt(lam_).imag for lam_ in lam]\n",
    "print(lamr)\n",
    "print(lami)"
   ]
  },
  {
   "cell_type": "code",
   "execution_count": null,
   "id": "63f105a4",
   "metadata": {},
   "outputs": [],
   "source": [
    "# Adapted from https://github.com/JSchoeberl/iFEM/blob/master/primal/first_example.ipynb"
   ]
  },
  {
   "cell_type": "code",
   "execution_count": null,
   "id": "ae09a359",
   "metadata": {},
   "outputs": [],
   "source": [
    "from ngsolve import *\n",
    "from ngsolve.webgui import Draw\n",
    "from netgen.webgui import Draw as DrawGeo"
   ]
  },
  {
   "cell_type": "code",
   "execution_count": null,
   "id": "a8572e3f",
   "metadata": {},
   "outputs": [],
   "source": [
    "from netgen.occ import unit_square\n",
    "DrawGeo(unit_square.shape)"
   ]
  },
  {
   "cell_type": "code",
   "execution_count": null,
   "id": "3d45398a",
   "metadata": {},
   "outputs": [],
   "source": [
    "mesh = Mesh(unit_square.GenerateMesh(maxh=0.2))\n",
    "Draw(mesh);"
   ]
  },
  {
   "cell_type": "code",
   "execution_count": null,
   "id": "ec80c774",
   "metadata": {},
   "outputs": [],
   "source": [
    "fes = H1(mesh, order=3, dirichlet=\".*\")\n",
    "a = BilinearForm(fes)\n",
    "f = LinearForm(fes)"
   ]
  },
  {
   "cell_type": "code",
   "execution_count": null,
   "id": "5a35ca49",
   "metadata": {},
   "outputs": [],
   "source": [
    "u = fes.TrialFunction()\n",
    "v = fes.TestFunction()"
   ]
  },
  {
   "cell_type": "code",
   "execution_count": null,
   "id": "c8a538be",
   "metadata": {},
   "outputs": [],
   "source": [
    "a += grad(u) * grad(v) * dx\n",
    "a.Assemble()"
   ]
  },
  {
   "cell_type": "code",
   "execution_count": null,
   "id": "5ba46676",
   "metadata": {},
   "outputs": [],
   "source": [
    "funcf = 50 * x * y\n",
    "f += funcf * v * dx\n",
    "f.Assemble();"
   ]
  },
  {
   "cell_type": "code",
   "execution_count": null,
   "id": "7b28f6a8",
   "metadata": {},
   "outputs": [],
   "source": [
    "gfu = GridFunction(fes)\n",
    "gfu.vec.data = a.mat.Inverse(freedofs=fes.FreeDofs()) * f.vec\n",
    "Draw(gfu);"
   ]
  },
  {
   "cell_type": "code",
   "execution_count": null,
   "id": "d8d1048f",
   "metadata": {},
   "outputs": [],
   "source": [
    "# Example of 3D visualization with widget"
   ]
  },
  {
   "cell_type": "code",
   "execution_count": null,
   "id": "cddd3936",
   "metadata": {},
   "outputs": [],
   "source": [
    "from ngsolve import *\n",
    "from ngsolve.webgui import Draw\n",
    "from netgen.csg import unit_cube"
   ]
  },
  {
   "cell_type": "code",
   "execution_count": null,
   "id": "29f8e780",
   "metadata": {},
   "outputs": [],
   "source": [
    "mesh = Mesh(unit_cube.GenerateMesh(maxh=1))\n",
    "Draw(mesh)"
   ]
  }
 ],
 "metadata": {
  "kernelspec": {
   "display_name": "Python 3 (ipykernel)",
   "language": "python",
   "name": "python3"
  },
  "language_info": {
   "codemirror_mode": {
    "name": "ipython"
   },
   "file_extension": ".py",
   "mimetype": "text/x-python",
   "name": "python",
   "nbconvert_exporter": "python"
  }
 },
 "nbformat": 4,
 "nbformat_minor": 5
}
