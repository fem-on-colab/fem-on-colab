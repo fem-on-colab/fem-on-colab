{
 "cells": [
  {
   "cell_type": "code",
   "execution_count": null,
   "id": "mediterranean-century",
   "metadata": {},
   "outputs": [],
   "source": [
    "try:\n",
    "    import BACKEND_LIBRARY_IN  # noqa: F401\n",
    "except ImportError:\n",
    "    import ufl\n",
    "    import dolfin\n",
    "else:\n",
    "    try:\n",
    "        import ufl\n",
    "        import dolfin\n",
    "    except ImportError:\n",
    "        !wget \"https://PROJECT_NAME_IN.github.io/releases/fenics-install.sh\" -O \"/tmp/fenics-install.sh\" && bash \"/tmp/fenics-install.sh\"\n",
    "        import ufl\n",
    "        import dolfin"
   ]
  },
  {
   "cell_type": "code",
   "execution_count": null,
   "id": "statewide-offer",
   "metadata": {},
   "outputs": [],
   "source": [
    "import numpy as np\n",
    "from petsc4py import PETSc\n",
    "assert not np.issubdtype(PETSc.ScalarType, np.complexfloating)"
   ]
  },
  {
   "cell_type": "code",
   "execution_count": null,
   "id": "received-partnership",
   "metadata": {},
   "outputs": [],
   "source": [
    "mesh = dolfin.UnitIntervalMesh(3)"
   ]
  },
  {
   "cell_type": "code",
   "execution_count": null,
   "id": "reliable-tanzania",
   "metadata": {},
   "outputs": [],
   "source": [
    "V = dolfin.FunctionSpace(mesh, \"CG\", 1)\n",
    "assert V.dim() == 4"
   ]
  },
  {
   "cell_type": "code",
   "execution_count": null,
   "id": "ranking-target",
   "metadata": {},
   "outputs": [],
   "source": [
    "u = dolfin.TrialFunction(V)\n",
    "v = dolfin.TestFunction(V)"
   ]
  },
  {
   "cell_type": "code",
   "execution_count": null,
   "id": "sitting-transcription",
   "metadata": {},
   "outputs": [],
   "source": [
    "dx = ufl.dx"
   ]
  },
  {
   "cell_type": "code",
   "execution_count": null,
   "id": "upper-cancellation",
   "metadata": {},
   "outputs": [],
   "source": [
    "f = dolfin.Function(V)\n",
    "f.vector()[:] = np.arange(1, V.dim() + 1)"
   ]
  },
  {
   "cell_type": "code",
   "execution_count": null,
   "id": "annoying-anthropology",
   "metadata": {},
   "outputs": [],
   "source": [
    "a = u * v * dx\n",
    "F = f * v * dx"
   ]
  },
  {
   "cell_type": "code",
   "execution_count": null,
   "id": "lonely-edgar",
   "metadata": {},
   "outputs": [],
   "source": [
    "A = dolfin.assemble(a)\n",
    "b = dolfin.assemble(F)"
   ]
  },
  {
   "cell_type": "code",
   "execution_count": null,
   "id": "blank-blade",
   "metadata": {},
   "outputs": [],
   "source": [
    "A = dolfin.as_backend_type(A)\n",
    "b = dolfin.as_backend_type(b)"
   ]
  },
  {
   "cell_type": "code",
   "execution_count": null,
   "id": "intermediate-biology",
   "metadata": {},
   "outputs": [],
   "source": [
    "solution = dolfin.Function(V)"
   ]
  },
  {
   "cell_type": "code",
   "execution_count": null,
   "id": "sacred-bottom",
   "metadata": {},
   "outputs": [],
   "source": [
    "dolfin.solve(A, solution.vector(), b)"
   ]
  },
  {
   "cell_type": "code",
   "execution_count": null,
   "id": "difficult-stopping",
   "metadata": {},
   "outputs": [],
   "source": [
    "assert np.allclose(solution.vector().vec().getArray(), np.arange(1, V.dim() + 1))"
   ]
  },
  {
   "cell_type": "code",
   "execution_count": null,
   "id": "hidden-croatia",
   "metadata": {},
   "outputs": [],
   "source": [
    "ksp = PETSc.KSP().create()\n",
    "ksp.setOperators(A.mat())\n",
    "ksp.solve(b.vec(), solution.vector().vec())\n",
    "assert np.allclose(solution.vector().vec().getArray(), np.arange(1, V.dim() + 1))"
   ]
  },
  {
   "cell_type": "code",
   "execution_count": null,
   "id": "elder-teacher",
   "metadata": {},
   "outputs": [],
   "source": [
    "for package in (\"mumps\", \"superlu\", \"superlu_dist\"):\n",
    "    ksp = PETSc.KSP().create()\n",
    "    ksp.setOperators(A.mat())\n",
    "    ksp.setType(\"preonly\")\n",
    "    pc = ksp.getPC()\n",
    "    pc.setType(\"lu\")\n",
    "    pc.setFactorSolverType(package)\n",
    "    ksp.solve(b.vec(), solution.vector().vec())\n",
    "    assert np.allclose(solution.vector().vec().getArray(), np.arange(1, V.dim() + 1))"
   ]
  },
  {
   "cell_type": "code",
   "execution_count": null,
   "id": "missing-fossil",
   "metadata": {},
   "outputs": [],
   "source": [
    "grad = ufl.grad\n",
    "inner = ufl.inner"
   ]
  },
  {
   "cell_type": "code",
   "execution_count": null,
   "id": "occasional-carpet",
   "metadata": {},
   "outputs": [],
   "source": [
    "k = inner(grad(u), grad(v)) * dx"
   ]
  },
  {
   "cell_type": "code",
   "execution_count": null,
   "id": "seven-obligation",
   "metadata": {},
   "outputs": [],
   "source": [
    "K = dolfin.assemble(k)\n",
    "K = dolfin.as_backend_type(K)"
   ]
  },
  {
   "cell_type": "code",
   "execution_count": null,
   "id": "every-ribbon",
   "metadata": {},
   "outputs": [],
   "source": [
    "expected = (0, 10.8, 54, 108)"
   ]
  },
  {
   "cell_type": "code",
   "execution_count": null,
   "id": "motivated-arrangement",
   "metadata": {},
   "outputs": [],
   "source": [
    "eigensolver = dolfin.SLEPcEigenSolver(K, A)\n",
    "eigensolver.parameters[\"problem_type\"] = \"gen_non_hermitian\"\n",
    "eigensolver.parameters[\"spectrum\"] = \"smallest real\"\n",
    "eigensolver.solve(V.dim())\n",
    "assert eigensolver.get_number_converged() == len(expected)\n",
    "for (i, eig_i_ex) in enumerate(expected):\n",
    "    eig_i_r, eig_i_i = eigensolver.get_eigenvalue(i)\n",
    "    assert np.isclose(eig_i_r, eig_i_ex)\n",
    "    assert np.isclose(eig_i_i, 0)"
   ]
  },
  {
   "cell_type": "code",
   "execution_count": null,
   "id": "romantic-washington",
   "metadata": {},
   "outputs": [],
   "source": [
    "from slepc4py import SLEPc"
   ]
  },
  {
   "cell_type": "code",
   "execution_count": null,
   "id": "accepting-snowboard",
   "metadata": {},
   "outputs": [],
   "source": [
    "eps = SLEPc.EPS().create()\n",
    "eps.setOperators(K.mat(), A.mat())\n",
    "eps.setProblemType(SLEPc.EPS.ProblemType.GHEP)\n",
    "eps.setWhichEigenpairs(SLEPc.EPS.Which.SMALLEST_REAL)\n",
    "eps.solve()\n",
    "assert eps.getConverged() == len(expected)\n",
    "for (i, eig_i_ex) in enumerate(expected):\n",
    "    eig_i = eps.getEigenvalue(i)\n",
    "    assert np.isclose(eig_i.real, eig_i_ex)\n",
    "    assert np.isclose(eig_i.imag, 0)"
   ]
  },
  {
   "cell_type": "code",
   "execution_count": null,
   "id": "outside-rwanda",
   "metadata": {},
   "outputs": [],
   "source": [
    "for package in (\"mumps\", \"superlu\", \"superlu_dist\"):\n",
    "    eps = SLEPc.EPS().create()\n",
    "    eps.setOperators(K.mat(), A.mat())\n",
    "    eps.setProblemType(SLEPc.EPS.ProblemType.GHEP)\n",
    "    eps.setWhichEigenpairs(SLEPc.EPS.Which.TARGET_REAL)\n",
    "    eps.setTarget(1)\n",
    "    st = eps.getST()\n",
    "    st.setType(SLEPc.ST.Type.SINVERT)\n",
    "    st.setShift(1)\n",
    "    ksp = st.getKSP()\n",
    "    ksp.setType(\"preonly\")\n",
    "    pc = ksp.getPC()\n",
    "    pc.setType(\"lu\")\n",
    "    pc.setFactorSolverType(package)\n",
    "    eps.solve()\n",
    "    assert eps.getConverged() == len(expected)\n",
    "    for (i, eig_i_ex) in enumerate(expected):\n",
    "        eig_i = eps.getEigenvalue(i)\n",
    "        assert np.isclose(eig_i.real, eig_i_ex)\n",
    "        assert np.isclose(eig_i.imag, 0)"
   ]
  },
  {
   "cell_type": "code",
   "execution_count": null,
   "id": "large-simple",
   "metadata": {},
   "outputs": [],
   "source": [
    "%%bash\n",
    "\n",
    "export LD_PRELOAD=\"\"\n",
    "ERROR_LIBRARIES=($(find /root/.cache/dijitso -name '*\\.so' -exec \\\n",
    "    bash -c 'ldd $0 | grep libstdc++.so.6 1>/dev/null 2>/dev/null && echo $0' {} \\;))\n",
    "if [ ${#ERROR_LIBRARIES[@]} -eq 0 ]; then\n",
    "    echo \"No reference to libstdc++.so was found\"\n",
    "else\n",
    "    for ERROR_LIBRARY in \"${ERROR_LIBRARIES[@]}\"; do\n",
    "        echo \"Error: library $ERROR_LIBRARY depends on libstdc++.so\"\n",
    "        ldd -v $ERROR_LIBRARY\n",
    "    done\n",
    "    false\n",
    "fi"
   ]
  }
 ],
 "metadata": {
  "kernelspec": {
   "display_name": "Python 3 (ipykernel)",
   "language": "python",
   "name": "python3"
  },
  "language_info": {
   "codemirror_mode": {
    "name": "ipython"
   },
   "file_extension": ".py",
   "mimetype": "text/x-python",
   "name": "python",
   "nbconvert_exporter": "python"
  }
 },
 "nbformat": 4,
 "nbformat_minor": 5
}
