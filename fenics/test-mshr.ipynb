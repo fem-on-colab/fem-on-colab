{
 "cells": [
  {
   "cell_type": "code",
   "execution_count": null,
   "id": "mediterranean-century",
   "metadata": {},
   "outputs": [],
   "source": [
    "try:\n",
    "    import google.colab  # noqa: F401\n",
    "except ImportError:\n",
    "    import dolfin\n",
    "    import mshr\n",
    "else:\n",
    "    try:\n",
    "        import dolfin\n",
    "    except ImportError:\n",
    "        !wget \"https://fem-on-colab.github.io/releases/fenics-install.sh\" -O \"/tmp/fenics-install.sh\" && bash \"/tmp/fenics-install.sh\"\n",
    "        import dolfin\n",
    "        import mshr"
   ]
  },
  {
   "cell_type": "code",
   "execution_count": null,
   "id": "received-partnership",
   "metadata": {},
   "outputs": [],
   "source": [
    "domain = mshr.Rectangle(dolfin.Point(0., 0.), dolfin.Point(1., 1.))\n",
    "mesh = mshr.generate_mesh(domain, 32)"
   ]
  },
  {
   "cell_type": "code",
   "execution_count": null,
   "id": "reliable-tanzania",
   "metadata": {},
   "outputs": [],
   "source": [
    "subdomains = dolfin.MeshFunction(\"size_t\", mesh, 2)\n",
    "subdomains.set_all(0)"
   ]
  },
  {
   "cell_type": "code",
   "execution_count": null,
   "id": "ranking-target",
   "metadata": {},
   "outputs": [],
   "source": [
    "class Left(dolfin.SubDomain):\n",
    "    def inside(self, x, on_boundary):\n",
    "        return on_boundary and abs(x[0]) < dolfin.DOLFIN_EPS\n",
    "\n",
    "\n",
    "class Right(dolfin.SubDomain):\n",
    "    def inside(self, x, on_boundary):\n",
    "        return on_boundary and abs(x[0] - 1.) < dolfin.DOLFIN_EPS\n",
    "\n",
    "\n",
    "class Bottom(dolfin.SubDomain):\n",
    "    def inside(self, x, on_boundary):\n",
    "        return on_boundary and abs(x[1]) < dolfin.DOLFIN_EPS\n",
    "\n",
    "\n",
    "class Top(dolfin.SubDomain):\n",
    "    def inside(self, x, on_boundary):\n",
    "        return on_boundary and abs(x[1] - 1.) < dolfin.DOLFIN_EPS"
   ]
  },
  {
   "cell_type": "code",
   "execution_count": null,
   "id": "sitting-transcription",
   "metadata": {},
   "outputs": [],
   "source": [
    "boundaries = dolfin.MeshFunction(\"size_t\", mesh, mesh.topology().dim() - 1)\n",
    "boundaries.set_all(0)\n",
    "bottom = Bottom()\n",
    "bottom.mark(boundaries, 1)\n",
    "left = Left()\n",
    "left.mark(boundaries, 2)\n",
    "top = Top()\n",
    "top.mark(boundaries, 3)\n",
    "right = Right()\n",
    "right.mark(boundaries, 4)"
   ]
  },
  {
   "cell_type": "code",
   "execution_count": null,
   "id": "outside-rwanda",
   "metadata": {},
   "outputs": [],
   "source": [
    "import numpy as np"
   ]
  },
  {
   "cell_type": "code",
   "execution_count": null,
   "id": "passive-visit",
   "metadata": {},
   "outputs": [],
   "source": [
    "unique, counts = np.unique(boundaries.array(), return_counts=True)\n",
    "d = dict(zip(unique, counts))\n",
    "for label in range(5):\n",
    "    assert d[label] > 0"
   ]
  }
 ],
 "metadata": {
  "kernelspec": {
   "display_name": "Python 3",
   "language": "python",
   "name": "python3"
  },
  "language_info": {
   "codemirror_mode": {
    "name": "ipython"
   },
   "file_extension": ".py",
   "mimetype": "text/x-python",
   "name": "python",
   "nbconvert_exporter": "python"
  }
 },
 "nbformat": 4,
 "nbformat_minor": 5
}
