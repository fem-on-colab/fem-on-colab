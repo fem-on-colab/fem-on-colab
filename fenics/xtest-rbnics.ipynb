{
 "cells": [
  {
   "cell_type": "code",
   "execution_count": null,
   "metadata": {},
   "outputs": [],
   "source": [
    "try:\n",
    "    import google.colab  # noqa: F401\n",
    "except ImportError:\n",
    "    import ufl  # noqa: F401\n",
    "    import dolfin  # noqa: F401\n",
    "else:\n",
    "    try:\n",
    "        import dolfin\n",
    "    except ImportError:\n",
    "        !wget \"https://fem-on-colab.github.io/releases/fenics-install.sh\" -O \"/tmp/fenics-install.sh\" && bash \"/tmp/fenics-install.sh\"\n",
    "        import ufl  # noqa: F401\n",
    "        import dolfin  # noqa: F401"
   ]
  },
  {
   "cell_type": "code",
   "execution_count": null,
   "metadata": {},
   "outputs": [],
   "source": [
    "try:\n",
    "    import rbnics\n",
    "except ImportError:\n",
    "    !pip3 install git+https://github.com/RBniCS/RBniCS.git\n",
    "    import rbnics  # noqa: F401"
   ]
  },
  {
   "cell_type": "code",
   "execution_count": null,
   "metadata": {},
   "outputs": [],
   "source": [
    "# Download data files\n",
    "!mkdir -p data\n",
    "![ -f data/thermal_block_facet_region.xml ] || wget https://github.com/RBniCS/RBniCS/raw/master/tutorials/01_thermal_block/data/thermal_block_facet_region.xml -O data/thermal_block_facet_region.xml\n",
    "![ -f data/thermal_block_physical_region.xml ] || wget https://github.com/RBniCS/RBniCS/raw/master/tutorials/01_thermal_block/data/thermal_block_physical_region.xml -O data/thermal_block_physical_region.xml\n",
    "![ -f data/thermal_block.xml ] || wget https://github.com/RBniCS/RBniCS/raw/master/tutorials/01_thermal_block/data/thermal_block.xml -O data/thermal_block.xml"
   ]
  },
  {
   "cell_type": "code",
   "execution_count": null,
   "metadata": {},
   "outputs": [],
   "source": [
    "from dolfin import *\n",
    "from rbnics import *"
   ]
  },
  {
   "cell_type": "code",
   "execution_count": null,
   "metadata": {},
   "outputs": [],
   "source": [
    "@SCM()\n",
    "class ThermalBlock(EllipticCoerciveCompliantProblem):\n",
    "\n",
    "    # Default initialization of members\n",
    "    @generate_function_space_for_stability_factor\n",
    "    def __init__(self, V, **kwargs):\n",
    "        # Call the standard initialization\n",
    "        EllipticCoerciveCompliantProblem.__init__(self, V, **kwargs)\n",
    "        # ... and also store FEniCS data structures for assembly\n",
    "        assert \"subdomains\" in kwargs\n",
    "        assert \"boundaries\" in kwargs\n",
    "        self.subdomains, self.boundaries = kwargs[\"subdomains\"], kwargs[\"boundaries\"]\n",
    "        self.u = TrialFunction(V)\n",
    "        self.v = TestFunction(V)\n",
    "        self.dx = Measure(\"dx\")(subdomain_data=self.subdomains)\n",
    "        self.ds = Measure(\"ds\")(subdomain_data=self.boundaries)\n",
    "        # Customize eigen solver parameters\n",
    "        self._eigen_solver_parameters.update({\n",
    "            \"bounding_box_minimum\": {\n",
    "                \"problem_type\": \"gen_hermitian\", \"spectral_transform\": \"shift-and-invert\",\n",
    "                \"spectral_shift\": 1.e-5, \"linear_solver\": \"mumps\"\n",
    "            },\n",
    "            \"bounding_box_maximum\": {\n",
    "                \"problem_type\": \"gen_hermitian\", \"spectral_transform\": \"shift-and-invert\",\n",
    "                \"spectral_shift\": 1.e5, \"linear_solver\": \"mumps\"\n",
    "            },\n",
    "            \"stability_factor\": {\n",
    "                \"problem_type\": \"gen_hermitian\", \"spectral_transform\": \"shift-and-invert\",\n",
    "                \"spectral_shift\": 1.e-5, \"linear_solver\": \"mumps\"\n",
    "            }\n",
    "        })\n",
    "\n",
    "    # Return custom problem name\n",
    "    def name(self):\n",
    "        return \"ThermalBlock\"\n",
    "\n",
    "    # Return theta multiplicative terms of the affine expansion of the problem.\n",
    "    @compute_theta_for_stability_factor\n",
    "    def compute_theta(self, term):\n",
    "        mu = self.mu\n",
    "        if term == \"a\":\n",
    "            theta_a0 = mu[0]\n",
    "            theta_a1 = 1.\n",
    "            return (theta_a0, theta_a1)\n",
    "        elif term == \"f\":\n",
    "            theta_f0 = mu[1]\n",
    "            return (theta_f0,)\n",
    "        else:\n",
    "            raise ValueError(\"Invalid term for compute_theta().\")\n",
    "\n",
    "    # Return forms resulting from the discretization of the affine expansion of the problem operators.\n",
    "    @assemble_operator_for_stability_factor\n",
    "    def assemble_operator(self, term):\n",
    "        v = self.v\n",
    "        dx = self.dx\n",
    "        if term == \"a\":\n",
    "            u = self.u\n",
    "            a0 = inner(grad(u), grad(v)) * dx(1)\n",
    "            a1 = inner(grad(u), grad(v)) * dx(2)\n",
    "            return (a0, a1)\n",
    "        elif term == \"f\":\n",
    "            ds = self.ds\n",
    "            f0 = v * ds(1)\n",
    "            return (f0,)\n",
    "        elif term == \"dirichlet_bc\":\n",
    "            bc0 = [DirichletBC(self.V, Constant(0.0), self.boundaries, 3)]\n",
    "            return (bc0,)\n",
    "        elif term == \"inner_product\":\n",
    "            u = self.u\n",
    "            x0 = inner(grad(u), grad(v)) * dx\n",
    "            return (x0,)\n",
    "        else:\n",
    "            raise ValueError(\"Invalid term for assemble_operator().\")"
   ]
  },
  {
   "cell_type": "code",
   "execution_count": null,
   "metadata": {},
   "outputs": [],
   "source": [
    "mesh = Mesh(\"data/thermal_block.xml\")\n",
    "subdomains = MeshFunction(\"size_t\", mesh, \"data/thermal_block_physical_region.xml\")\n",
    "boundaries = MeshFunction(\"size_t\", mesh, \"data/thermal_block_facet_region.xml\")"
   ]
  },
  {
   "cell_type": "code",
   "execution_count": null,
   "metadata": {},
   "outputs": [],
   "source": [
    "V = FunctionSpace(mesh, \"Lagrange\", 1)"
   ]
  },
  {
   "cell_type": "code",
   "execution_count": null,
   "metadata": {},
   "outputs": [],
   "source": [
    "problem = ThermalBlock(V, subdomains=subdomains, boundaries=boundaries)\n",
    "mu_range = [(0.1, 10.0), (-1.0, 1.0)]\n",
    "problem.set_mu_range(mu_range)"
   ]
  },
  {
   "cell_type": "code",
   "execution_count": null,
   "metadata": {},
   "outputs": [],
   "source": [
    "reduction_method = ReducedBasis(problem)\n",
    "reduction_method.set_Nmax(4, SCM=4)\n",
    "reduction_method.set_tolerance(1e-5, SCM=1e-5)"
   ]
  },
  {
   "cell_type": "code",
   "execution_count": null,
   "metadata": {},
   "outputs": [],
   "source": [
    "reduction_method.initialize_training_set(100, SCM=50)\n",
    "reduced_problem = reduction_method.offline()"
   ]
  },
  {
   "cell_type": "code",
   "execution_count": null,
   "metadata": {},
   "outputs": [],
   "source": [
    "online_mu = (8.0, -1.0)\n",
    "reduced_problem.set_mu(online_mu)\n",
    "reduced_solution = reduced_problem.solve()\n",
    "plot(reduced_solution, reduced_problem=reduced_problem)"
   ]
  },
  {
   "cell_type": "code",
   "execution_count": null,
   "metadata": {},
   "outputs": [],
   "source": [
    "reduction_method.initialize_testing_set(100, SCM=0)\n",
    "reduction_method.error_analysis(SCM=4)"
   ]
  },
  {
   "cell_type": "code",
   "execution_count": null,
   "metadata": {},
   "outputs": [],
   "source": [
    "%%bash\n",
    "\n",
    "export LD_PRELOAD=\"\"\n",
    "ERROR_LIBRARIES=($(find /root/.cache/dijitso -name '*\\.so' -exec \\\n",
    "    bash -c 'ldd $0 | grep libstdc++.so.6 1>/dev/null 2>/dev/null && echo $0' {} \\;))\n",
    "if [ ${#ERROR_LIBRARIES[@]} -eq 0 ]; then\n",
    "    echo \"No reference to libstdc++.so was found\"\n",
    "else\n",
    "    for ERROR_LIBRARY in \"${ERROR_LIBRARIES[@]}\"; do\n",
    "        echo \"Error: library $ERROR_LIBRARY depends on libstdc++.so\"\n",
    "        ldd -v $ERROR_LIBRARY\n",
    "    done\n",
    "    false\n",
    "fi"
   ]
  }
 ],
 "metadata": {
  "kernelspec": {
   "display_name": "Python 3",
   "language": "python",
   "name": "python3"
  },
  "language_info": {
   "codemirror_mode": {
    "name": "ipython"
   },
   "file_extension": ".py",
   "mimetype": "text/x-python",
   "name": "python",
   "nbconvert_exporter": "python"
  }
 },
 "nbformat": 4,
 "nbformat_minor": 2
}
