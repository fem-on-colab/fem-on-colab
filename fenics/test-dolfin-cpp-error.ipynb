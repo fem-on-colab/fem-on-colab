{
 "cells": [
  {
   "cell_type": "code",
   "execution_count": null,
   "id": "mediterranean-century",
   "metadata": {},
   "outputs": [],
   "source": [
    "try:\n",
    "    import BACKEND_LIBRARY_IN  # noqa: F401\n",
    "except ImportError:\n",
    "    import dolfin\n",
    "else:\n",
    "    try:\n",
    "        import dolfin\n",
    "    except ImportError:\n",
    "        !wget \"https://PROJECT_NAME_IN.github.io/releases/fenics-install.sh\" -O \"/tmp/fenics-install.sh\" && bash \"/tmp/fenics-install.sh\"\n",
    "        import dolfin"
   ]
  },
  {
   "cell_type": "code",
   "execution_count": null,
   "id": "received-partnership",
   "metadata": {},
   "outputs": [],
   "source": [
    "cpp_code = \"\"\"\n",
    "    #include <pybind11/pybind11.h>\n",
    "    #include <dolfin/log/log.h>\n",
    "\n",
    "    void throw_dolfin_error()\n",
    "    {\n",
    "        dolfin::dolfin_error(\"JITed module\", \"not throw an error\", \"On purpose\");\n",
    "    }\n",
    "\n",
    "    void throw_runtime_error()\n",
    "    {\n",
    "        throw std::runtime_error(\"My runtime error\");\n",
    "    }\n",
    "\n",
    "    PYBIND11_MODULE(SIGNATURE, m)\n",
    "    {\n",
    "        m.def(\"throw_dolfin_error\", &throw_dolfin_error);\n",
    "        m.def(\"throw_runtime_error\", &throw_runtime_error);\n",
    "    }\n",
    "\"\"\"\n",
    "cpp_module = dolfin.compile_cpp_code(cpp_code)"
   ]
  },
  {
   "cell_type": "code",
   "execution_count": null,
   "id": "reliable-tanzania",
   "metadata": {},
   "outputs": [],
   "source": [
    "try:\n",
    "    cpp_module.throw_runtime_error()\n",
    "except RuntimeError as e:\n",
    "    assert str(e) == \"My runtime error\"\n",
    "else:\n",
    "    raise RuntimeError(\"An error should have been raised\")"
   ]
  },
  {
   "cell_type": "code",
   "execution_count": null,
   "id": "stainless-reporter",
   "metadata": {},
   "outputs": [],
   "source": [
    "try:\n",
    "    cpp_module.throw_dolfin_error()\n",
    "except RuntimeError as e:\n",
    "    assert \"Unable to not throw an error\" in str(e)\n",
    "else:\n",
    "    raise RuntimeError(\"An error should have been raised\")"
   ]
  }
 ],
 "metadata": {
  "kernelspec": {
   "display_name": "Python 3 (ipykernel)",
   "language": "python",
   "name": "python3"
  },
  "language_info": {
   "codemirror_mode": {
    "name": "ipython"
   },
   "file_extension": ".py",
   "mimetype": "text/x-python",
   "name": "python",
   "nbconvert_exporter": "python"
  }
 },
 "nbformat": 4,
 "nbformat_minor": 5
}
