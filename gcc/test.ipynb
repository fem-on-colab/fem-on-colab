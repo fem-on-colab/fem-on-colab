{
 "cells": [
  {
   "cell_type": "code",
   "execution_count": null,
   "id": "mediterranean-century",
   "metadata": {},
   "outputs": [],
   "source": [
    "try:\n",
    "    import google.colab  # noqa: F401\n",
    "except ImportError:\n",
    "    pass\n",
    "else:\n",
    "    !wget \"https://fem-on-colab.github.io/releases/gcc-install.sh\" -O \"/tmp/gcc-install.sh\" && bash \"/tmp/gcc-install.sh\""
   ]
  },
  {
   "cell_type": "code",
   "execution_count": null,
   "id": "proud-proceeding",
   "metadata": {},
   "outputs": [],
   "source": [
    "output = \"\"\n",
    "error = \"\""
   ]
  },
  {
   "cell_type": "code",
   "execution_count": null,
   "id": "ahead-benefit",
   "metadata": {},
   "outputs": [],
   "source": [
    "%%bash --out output --err error\n",
    "gcc --version"
   ]
  },
  {
   "cell_type": "code",
   "execution_count": null,
   "id": "christian-clause",
   "metadata": {},
   "outputs": [],
   "source": [
    "GCC_VERSION = \"12\"\n",
    "assert GCC_VERSION + \".\" in output"
   ]
  }
 ],
 "metadata": {
  "kernelspec": {
   "display_name": "Python 3",
   "language": "python",
   "name": "python3"
  },
  "language_info": {
   "codemirror_mode": {
    "name": "ipython"
   },
   "file_extension": ".py",
   "mimetype": "text/x-python",
   "name": "python",
   "nbconvert_exporter": "python"
  }
 },
 "nbformat": 4,
 "nbformat_minor": 5
}
