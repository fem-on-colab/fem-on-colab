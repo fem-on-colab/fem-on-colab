{
 "cells": [
  {
   "cell_type": "code",
   "execution_count": null,
   "id": "mediterranean-century",
   "metadata": {},
   "outputs": [],
   "source": [
    "try:\n",
    "    import google.colab  # noqa: F401\n",
    "except ImportError:\n",
    "    import petsc4py\n",
    "    import slepc4py\n",
    "else:\n",
    "    try:\n",
    "        import slepc4py\n",
    "    except ImportError:\n",
    "        !wget \"https://fem-on-colab.github.io/releases/slepc4py-install.sh\" -O \"/tmp/slepc4py-install.sh\" && bash \"/tmp/slepc4py-install.sh\"\n",
    "        import petsc4py\n",
    "        import slepc4py"
   ]
  },
  {
   "cell_type": "code",
   "execution_count": null,
   "id": "ahead-benefit",
   "metadata": {},
   "outputs": [],
   "source": [
    "assert slepc4py.__version__ == \"3.15.1\""
   ]
  },
  {
   "cell_type": "code",
   "execution_count": null,
   "id": "wooden-modem",
   "metadata": {},
   "outputs": [],
   "source": [
    "petsc4py.init()\n",
    "from petsc4py import PETSc"
   ]
  },
  {
   "cell_type": "code",
   "execution_count": null,
   "id": "healthy-storm",
   "metadata": {},
   "outputs": [],
   "source": [
    "slepc4py.init()\n",
    "from slepc4py import SLEPc"
   ]
  },
  {
   "cell_type": "code",
   "execution_count": null,
   "id": "aggressive-baltimore",
   "metadata": {},
   "outputs": [],
   "source": [
    "A = PETSc.Mat().createAIJ([3, 3], nnz=1)\n",
    "for i in range(3):\n",
    "    A.setValue(i, i, i + 1)\n",
    "A.assemble()"
   ]
  },
  {
   "cell_type": "code",
   "execution_count": null,
   "id": "fewer-lawrence",
   "metadata": {},
   "outputs": [],
   "source": [
    "import numpy as np\n",
    "assert np.allclose(A.getValues(range(3), range(3)), np.diag([1., 2., 3.]))"
   ]
  },
  {
   "cell_type": "code",
   "execution_count": null,
   "id": "hidden-croatia",
   "metadata": {},
   "outputs": [],
   "source": [
    "eps = SLEPc.EPS().create()\n",
    "eps.setOperators(A)\n",
    "eps.setProblemType(SLEPc.EPS.ProblemType.HEP)\n",
    "eps.setWhichEigenpairs(SLEPc.EPS.Which.SMALLEST_REAL)\n",
    "eps.solve()\n",
    "assert eps.getConverged() == 3\n",
    "for i in range(3):\n",
    "    eig_i = eps.getEigenvalue(i)\n",
    "    assert np.isclose(eig_i.real, i + 1)\n",
    "    assert np.isclose(eig_i.imag, 0)"
   ]
  },
  {
   "cell_type": "code",
   "execution_count": null,
   "id": "elder-teacher",
   "metadata": {},
   "outputs": [],
   "source": [
    "for package in (\"mumps\", \"superlu\", \"superlu_dist\"):\n",
    "    eps = SLEPc.EPS().create()\n",
    "    eps.setOperators(A)\n",
    "    eps.setProblemType(SLEPc.EPS.ProblemType.HEP)\n",
    "    eps.setWhichEigenpairs(SLEPc.EPS.Which.TARGET_REAL)\n",
    "    eps.setTarget(0)\n",
    "    st = eps.getST()\n",
    "    st.setType(SLEPc.ST.Type.SINVERT)\n",
    "    st.setShift(0)\n",
    "    ksp = st.getKSP()\n",
    "    ksp.setType(\"preonly\")\n",
    "    pc = ksp.getPC()\n",
    "    pc.setType(\"lu\")\n",
    "    pc.setFactorSolverType(package)\n",
    "    eps.solve()\n",
    "    assert eps.getConverged() == 3\n",
    "    for i in range(3):\n",
    "        eig_i = eps.getEigenvalue(i)\n",
    "        assert np.isclose(eig_i.real, i + 1)\n",
    "        assert np.isclose(eig_i.imag, 0)"
   ]
  }
 ],
 "metadata": {
  "kernelspec": {
   "display_name": "Python 3",
   "language": "python",
   "name": "python3"
  },
  "language_info": {
   "codemirror_mode": {
    "name": "ipython"
   },
   "file_extension": ".py",
   "mimetype": "text/x-python",
   "name": "python",
   "nbconvert_exporter": "python"
  }
 },
 "nbformat": 4,
 "nbformat_minor": 5
}
